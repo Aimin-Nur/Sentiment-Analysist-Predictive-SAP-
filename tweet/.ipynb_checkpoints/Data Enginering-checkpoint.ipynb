{
 "cells": [
  {
   "cell_type": "markdown",
   "id": "e83d9bff-4932-4204-b7f1-6d24bfd8d5d5",
   "metadata": {},
   "source": [
    "# Data Processing"
   ]
  },
  {
   "cell_type": "markdown",
   "id": "5bafd74b-a332-431e-8f56-28f27b4ac359",
   "metadata": {},
   "source": [
    "### Anies - Muhaimin"
   ]
  },
  {
   "cell_type": "code",
   "execution_count": 1,
   "id": "47c39e17-e1de-4bd5-ab52-ff7df438586d",
   "metadata": {
    "tags": []
   },
   "outputs": [],
   "source": [
    "import pandas as pd"
   ]
  },
  {
   "cell_type": "code",
   "execution_count": 2,
   "id": "df02f9a7-e5d5-495b-8a3a-957751ee50f6",
   "metadata": {
    "tags": []
   },
   "outputs": [],
   "source": [
    "df = pd.read_csv('Anis-Muhaimin.csv', delimiter=\";\")\n",
    "df2 = pd.read_csv('Anis-Muhaimin_vol.2.csv', delimiter=\";\")\n",
    "df3 = pd.read_csv('Anis-Muhaimin_vol.3.csv', delimiter=\";\")\n",
    "df4 = pd.read_csv('#AniesMuhaimin2024.csv', delimiter=\";\")\n",
    "df5 = pd.read_csv('Capres_Anies_Baswedan.csv', delimiter=\";\")\n",
    "df6 = pd.read_csv('Capres_Anies.csv', delimiter=\";\")\n",
    "df7 = pd.read_csv('Cawapres_Muhaimin_Iskandar.csv', delimiter=\";\")\n",
    "df8 = pd.read_csv('#Anies_Baswedan_Muhaimin_Iskandar.csv', delimiter=\";\")\n",
    "df9 = pd.read_csv('#AniesPresiden2024.csv', delimiter=\";\")\n",
    "df10 = pd.read_csv('AMIN_Pilpres_2024.csv', delimiter=\";\")\n",
    "df11 = pd.read_csv('Cak_IMIN.csv', delimiter=\";\")\n",
    "df12 = pd.read_csv('Anis_omong_doang.csv', delimiter=\";\")\n",
    "df13 = pd.read_csv('Desak_Anies.csv', delimiter=\";\")"
   ]
  },
  {
   "cell_type": "code",
   "execution_count": 3,
   "id": "e899e733-01cd-48bf-8057-2b26b4587b12",
   "metadata": {
    "tags": []
   },
   "outputs": [],
   "source": [
    "anies_muhaimin = pd.concat([df, df2, df3, df4, df5, df6, df7, df8, df9, df10, df11, df12, df13], ignore_index=True)"
   ]
  },
  {
   "cell_type": "code",
   "execution_count": 4,
   "id": "a352ec81-ec52-460e-9264-3daa9c80aaf9",
   "metadata": {
    "tags": []
   },
   "outputs": [
    {
     "data": {
      "text/plain": [
       "(3489, 12)"
      ]
     },
     "execution_count": 4,
     "metadata": {},
     "output_type": "execute_result"
    }
   ],
   "source": [
    "anies_muhaimin.shape"
   ]
  },
  {
   "cell_type": "code",
   "execution_count": 5,
   "id": "f338af2e-eeb2-4544-a835-4e06b2fdb5c7",
   "metadata": {
    "tags": []
   },
   "outputs": [
    {
     "name": "stdout",
     "output_type": "stream",
     "text": [
      "<class 'pandas.core.frame.DataFrame'>\n",
      "RangeIndex: 3489 entries, 0 to 3488\n",
      "Data columns (total 12 columns):\n",
      " #   Column               Non-Null Count  Dtype \n",
      "---  ------               --------------  ----- \n",
      " 0   created_at           3489 non-null   object\n",
      " 1   id_str               3489 non-null   int64 \n",
      " 2   full_text            3489 non-null   object\n",
      " 3   quote_count          3489 non-null   int64 \n",
      " 4   reply_count          3489 non-null   int64 \n",
      " 5   retweet_count        3489 non-null   int64 \n",
      " 6   favorite_count       3489 non-null   int64 \n",
      " 7   lang                 3489 non-null   object\n",
      " 8   user_id_str          3489 non-null   int64 \n",
      " 9   conversation_id_str  3489 non-null   int64 \n",
      " 10  username             3489 non-null   object\n",
      " 11  tweet_url            3489 non-null   object\n",
      "dtypes: int64(7), object(5)\n",
      "memory usage: 327.2+ KB\n"
     ]
    }
   ],
   "source": [
    "anies_muhaimin.info()"
   ]
  },
  {
   "cell_type": "code",
   "execution_count": 6,
   "id": "3602dd38-b5a1-466e-93d7-9c45749b07c0",
   "metadata": {
    "tags": []
   },
   "outputs": [],
   "source": [
    "anies_muhaimin['Kandidat'] = 'Anies-Muhaimin'"
   ]
  },
  {
   "cell_type": "code",
   "execution_count": 7,
   "id": "e82692cc-e372-4359-8117-b928e0bc2ac9",
   "metadata": {
    "tags": []
   },
   "outputs": [
    {
     "name": "stdout",
     "output_type": "stream",
     "text": [
      "<class 'pandas.core.frame.DataFrame'>\n",
      "RangeIndex: 3489 entries, 0 to 3488\n",
      "Data columns (total 13 columns):\n",
      " #   Column               Non-Null Count  Dtype \n",
      "---  ------               --------------  ----- \n",
      " 0   created_at           3489 non-null   object\n",
      " 1   id_str               3489 non-null   int64 \n",
      " 2   full_text            3489 non-null   object\n",
      " 3   quote_count          3489 non-null   int64 \n",
      " 4   reply_count          3489 non-null   int64 \n",
      " 5   retweet_count        3489 non-null   int64 \n",
      " 6   favorite_count       3489 non-null   int64 \n",
      " 7   lang                 3489 non-null   object\n",
      " 8   user_id_str          3489 non-null   int64 \n",
      " 9   conversation_id_str  3489 non-null   int64 \n",
      " 10  username             3489 non-null   object\n",
      " 11  tweet_url            3489 non-null   object\n",
      " 12  Kandidat             3489 non-null   object\n",
      "dtypes: int64(7), object(6)\n",
      "memory usage: 354.5+ KB\n"
     ]
    }
   ],
   "source": [
    "anies_muhaimin.info()"
   ]
  },
  {
   "cell_type": "code",
   "execution_count": 8,
   "id": "cd6c6592-d7e6-463e-90d8-60a7f498217c",
   "metadata": {
    "tags": []
   },
   "outputs": [
    {
     "data": {
      "text/html": [
       "<div>\n",
       "<style scoped>\n",
       "    .dataframe tbody tr th:only-of-type {\n",
       "        vertical-align: middle;\n",
       "    }\n",
       "\n",
       "    .dataframe tbody tr th {\n",
       "        vertical-align: top;\n",
       "    }\n",
       "\n",
       "    .dataframe thead th {\n",
       "        text-align: right;\n",
       "    }\n",
       "</style>\n",
       "<table border=\"1\" class=\"dataframe\">\n",
       "  <thead>\n",
       "    <tr style=\"text-align: right;\">\n",
       "      <th></th>\n",
       "      <th>created_at</th>\n",
       "      <th>id_str</th>\n",
       "      <th>full_text</th>\n",
       "      <th>quote_count</th>\n",
       "      <th>reply_count</th>\n",
       "      <th>retweet_count</th>\n",
       "      <th>favorite_count</th>\n",
       "      <th>lang</th>\n",
       "      <th>user_id_str</th>\n",
       "      <th>conversation_id_str</th>\n",
       "      <th>username</th>\n",
       "      <th>tweet_url</th>\n",
       "      <th>Kandidat</th>\n",
       "    </tr>\n",
       "  </thead>\n",
       "  <tbody>\n",
       "    <tr>\n",
       "      <th>0</th>\n",
       "      <td>Thu Dec 14 05:15:57 +0000 2023</td>\n",
       "      <td>1735166716563673457</td>\n",
       "      <td>Jaringan Perempuan Nahdliyin untuk ANIS MUHAIM...</td>\n",
       "      <td>0</td>\n",
       "      <td>0</td>\n",
       "      <td>0</td>\n",
       "      <td>0</td>\n",
       "      <td>in</td>\n",
       "      <td>1222731781444489216</td>\n",
       "      <td>1735166716563673457</td>\n",
       "      <td>PkbPurworejo</td>\n",
       "      <td>https://twitter.com/PkbPurworejo/status/173516...</td>\n",
       "      <td>Anies-Muhaimin</td>\n",
       "    </tr>\n",
       "    <tr>\n",
       "      <th>1</th>\n",
       "      <td>Thu Dec 14 04:32:00 +0000 2023</td>\n",
       "      <td>1735155653902270493</td>\n",
       "      <td>@BosPurwa Setelah melihat debat kemaren, tanpa...</td>\n",
       "      <td>0</td>\n",
       "      <td>0</td>\n",
       "      <td>0</td>\n",
       "      <td>0</td>\n",
       "      <td>in</td>\n",
       "      <td>1428102822130642944</td>\n",
       "      <td>1734853374695354729</td>\n",
       "      <td>BaladewaDon</td>\n",
       "      <td>https://twitter.com/BaladewaDon/status/1735155...</td>\n",
       "      <td>Anies-Muhaimin</td>\n",
       "    </tr>\n",
       "    <tr>\n",
       "      <th>2</th>\n",
       "      <td>Thu Dec 14 03:16:38 +0000 2023</td>\n",
       "      <td>1735136689893585208</td>\n",
       "      <td>@pemilunetwork Isi Komen banyak Anis-Muhaimin,...</td>\n",
       "      <td>0</td>\n",
       "      <td>0</td>\n",
       "      <td>0</td>\n",
       "      <td>0</td>\n",
       "      <td>in</td>\n",
       "      <td>219564339</td>\n",
       "      <td>1734443620344963191</td>\n",
       "      <td>sahrulmartenank</td>\n",
       "      <td>https://twitter.com/sahrulmartenank/status/173...</td>\n",
       "      <td>Anies-Muhaimin</td>\n",
       "    </tr>\n",
       "    <tr>\n",
       "      <th>3</th>\n",
       "      <td>Thu Dec 14 03:15:17 +0000 2023</td>\n",
       "      <td>1735136350368944248</td>\n",
       "      <td>@sigitwid Telak banget ya..#AnisMuhaimin mantap</td>\n",
       "      <td>0</td>\n",
       "      <td>0</td>\n",
       "      <td>0</td>\n",
       "      <td>0</td>\n",
       "      <td>in</td>\n",
       "      <td>1376980848</td>\n",
       "      <td>1734594771778511305</td>\n",
       "      <td>AmLoebis</td>\n",
       "      <td>https://twitter.com/AmLoebis/status/1735136350...</td>\n",
       "      <td>Anies-Muhaimin</td>\n",
       "    </tr>\n",
       "    <tr>\n",
       "      <th>4</th>\n",
       "      <td>Thu Dec 14 03:13:31 +0000 2023</td>\n",
       "      <td>1735135902266175677</td>\n",
       "      <td>@sobat_anies Ampe julurin lidah ya..kayak itu ...</td>\n",
       "      <td>0</td>\n",
       "      <td>0</td>\n",
       "      <td>0</td>\n",
       "      <td>0</td>\n",
       "      <td>in</td>\n",
       "      <td>1376980848</td>\n",
       "      <td>1734768732235571476</td>\n",
       "      <td>AmLoebis</td>\n",
       "      <td>https://twitter.com/AmLoebis/status/1735135902...</td>\n",
       "      <td>Anies-Muhaimin</td>\n",
       "    </tr>\n",
       "  </tbody>\n",
       "</table>\n",
       "</div>"
      ],
      "text/plain": [
       "                       created_at               id_str  \\\n",
       "0  Thu Dec 14 05:15:57 +0000 2023  1735166716563673457   \n",
       "1  Thu Dec 14 04:32:00 +0000 2023  1735155653902270493   \n",
       "2  Thu Dec 14 03:16:38 +0000 2023  1735136689893585208   \n",
       "3  Thu Dec 14 03:15:17 +0000 2023  1735136350368944248   \n",
       "4  Thu Dec 14 03:13:31 +0000 2023  1735135902266175677   \n",
       "\n",
       "                                           full_text  quote_count  \\\n",
       "0  Jaringan Perempuan Nahdliyin untuk ANIS MUHAIM...            0   \n",
       "1  @BosPurwa Setelah melihat debat kemaren, tanpa...            0   \n",
       "2  @pemilunetwork Isi Komen banyak Anis-Muhaimin,...            0   \n",
       "3    @sigitwid Telak banget ya..#AnisMuhaimin mantap            0   \n",
       "4  @sobat_anies Ampe julurin lidah ya..kayak itu ...            0   \n",
       "\n",
       "   reply_count  retweet_count  favorite_count lang          user_id_str  \\\n",
       "0            0              0               0   in  1222731781444489216   \n",
       "1            0              0               0   in  1428102822130642944   \n",
       "2            0              0               0   in            219564339   \n",
       "3            0              0               0   in           1376980848   \n",
       "4            0              0               0   in           1376980848   \n",
       "\n",
       "   conversation_id_str         username  \\\n",
       "0  1735166716563673457     PkbPurworejo   \n",
       "1  1734853374695354729      BaladewaDon   \n",
       "2  1734443620344963191  sahrulmartenank   \n",
       "3  1734594771778511305         AmLoebis   \n",
       "4  1734768732235571476         AmLoebis   \n",
       "\n",
       "                                           tweet_url        Kandidat  \n",
       "0  https://twitter.com/PkbPurworejo/status/173516...  Anies-Muhaimin  \n",
       "1  https://twitter.com/BaladewaDon/status/1735155...  Anies-Muhaimin  \n",
       "2  https://twitter.com/sahrulmartenank/status/173...  Anies-Muhaimin  \n",
       "3  https://twitter.com/AmLoebis/status/1735136350...  Anies-Muhaimin  \n",
       "4  https://twitter.com/AmLoebis/status/1735135902...  Anies-Muhaimin  "
      ]
     },
     "execution_count": 8,
     "metadata": {},
     "output_type": "execute_result"
    }
   ],
   "source": [
    "anies_muhaimin.head()"
   ]
  },
  {
   "cell_type": "code",
   "execution_count": 9,
   "id": "40663372-b170-4555-a9bb-88cb7e43b396",
   "metadata": {
    "tags": []
   },
   "outputs": [
    {
     "data": {
      "text/plain": [
       "120"
      ]
     },
     "execution_count": 9,
     "metadata": {},
     "output_type": "execute_result"
    }
   ],
   "source": [
    "anies_muhaimin.duplicated().sum()"
   ]
  },
  {
   "cell_type": "markdown",
   "id": "0f212cd3-8a99-43f8-afbe-44c4d0f68cd8",
   "metadata": {
    "tags": []
   },
   "source": [
    "### Prabowo - Gibran"
   ]
  },
  {
   "cell_type": "code",
   "execution_count": 10,
   "id": "eabb8a8e-44f1-4f35-9eaf-159f94a7a8c0",
   "metadata": {
    "tags": []
   },
   "outputs": [],
   "source": [
    "df14 = pd.read_csv('Prabowo-Gibran.csv', delimiter=\";\")\n",
    "df15 = pd.read_csv('Prabowo-Gibran_vol.2.csv', delimiter=\";\")\n",
    "df16 = pd.read_csv('#PrabowoGibran2024.csv', delimiter=\";\")\n",
    "df17 = pd.read_csv('Cawapres_Gibran.csv', delimiter=\";\")\n",
    "df18 = pd.read_csv('Capres_Prabowo_vol.3.csv', delimiter=\";\")\n",
    "df19 = pd.read_csv('#PrabowoGibranIstimewa.csv', delimiter=\";\")\n",
    "df20 = pd.read_csv('#PrabowoGemoy.csv', delimiter=\";\")\n",
    "df21 = pd.read_csv('Desak_Anies.csv', delimiter=\";\")\n",
    "df22 = pd.read_csv('Prabowo_Gemoi.csv', delimiter=\";\")\n",
    "df23 = pd.read_csv('GibranBocahIngusan.old.csv', delimiter=\";\")\n",
    "df37 = pd.read_csv('#prabowogibran.csv', delimiter=\";\")"
   ]
  },
  {
   "cell_type": "code",
   "execution_count": 11,
   "id": "d6bfae72-7939-44a9-bc57-33a05610584a",
   "metadata": {
    "tags": []
   },
   "outputs": [],
   "source": [
    "prabowo_gibran = pd.concat([df14, df15, df16, df17, df18, df19, df20, df21, df22, df23, df37], ignore_index=True)"
   ]
  },
  {
   "cell_type": "code",
   "execution_count": 12,
   "id": "e3de9900-3788-4361-a0ce-76674868b059",
   "metadata": {
    "tags": []
   },
   "outputs": [
    {
     "data": {
      "text/plain": [
       "(5187, 12)"
      ]
     },
     "execution_count": 12,
     "metadata": {},
     "output_type": "execute_result"
    }
   ],
   "source": [
    "prabowo_gibran.shape"
   ]
  },
  {
   "cell_type": "code",
   "execution_count": 13,
   "id": "8269a2af-de20-4b68-bb26-e3925701fad2",
   "metadata": {
    "tags": []
   },
   "outputs": [
    {
     "data": {
      "text/plain": [
       "17"
      ]
     },
     "execution_count": 13,
     "metadata": {},
     "output_type": "execute_result"
    }
   ],
   "source": [
    "prabowo_gibran.duplicated().sum()"
   ]
  },
  {
   "cell_type": "code",
   "execution_count": 14,
   "id": "abff30e0-3564-412d-aee4-d937f7323d78",
   "metadata": {
    "tags": []
   },
   "outputs": [
    {
     "data": {
      "text/html": [
       "<div>\n",
       "<style scoped>\n",
       "    .dataframe tbody tr th:only-of-type {\n",
       "        vertical-align: middle;\n",
       "    }\n",
       "\n",
       "    .dataframe tbody tr th {\n",
       "        vertical-align: top;\n",
       "    }\n",
       "\n",
       "    .dataframe thead th {\n",
       "        text-align: right;\n",
       "    }\n",
       "</style>\n",
       "<table border=\"1\" class=\"dataframe\">\n",
       "  <thead>\n",
       "    <tr style=\"text-align: right;\">\n",
       "      <th></th>\n",
       "      <th>created_at</th>\n",
       "      <th>id_str</th>\n",
       "      <th>full_text</th>\n",
       "      <th>quote_count</th>\n",
       "      <th>reply_count</th>\n",
       "      <th>retweet_count</th>\n",
       "      <th>favorite_count</th>\n",
       "      <th>lang</th>\n",
       "      <th>user_id_str</th>\n",
       "      <th>conversation_id_str</th>\n",
       "      <th>username</th>\n",
       "      <th>tweet_url</th>\n",
       "    </tr>\n",
       "  </thead>\n",
       "  <tbody>\n",
       "    <tr>\n",
       "      <th>0</th>\n",
       "      <td>Thu Dec 14 05:34:30 +0000 2023</td>\n",
       "      <td>1735171382210879944</td>\n",
       "      <td>@ch_chotimah2 @prabowo @gibran_tweet Yg perlu ...</td>\n",
       "      <td>0</td>\n",
       "      <td>0</td>\n",
       "      <td>0</td>\n",
       "      <td>0</td>\n",
       "      <td>in</td>\n",
       "      <td>840092533594120192</td>\n",
       "      <td>1734942545573245013</td>\n",
       "      <td>ahmadfathoniiii</td>\n",
       "      <td>https://twitter.com/ahmadfathoniiii/status/173...</td>\n",
       "    </tr>\n",
       "    <tr>\n",
       "      <th>1</th>\n",
       "      <td>Thu Dec 14 05:34:26 +0000 2023</td>\n",
       "      <td>1735171367140770225</td>\n",
       "      <td>Ada yang meniru Pak Jokowi padahal seharusnya ...</td>\n",
       "      <td>0</td>\n",
       "      <td>0</td>\n",
       "      <td>0</td>\n",
       "      <td>0</td>\n",
       "      <td>in</td>\n",
       "      <td>89388403</td>\n",
       "      <td>1735171349369524546</td>\n",
       "      <td>topan_casper</td>\n",
       "      <td>https://twitter.com/topan_casper/status/173517...</td>\n",
       "    </tr>\n",
       "    <tr>\n",
       "      <th>2</th>\n",
       "      <td>Thu Dec 14 05:34:25 +0000 2023</td>\n",
       "      <td>1735171364586397843</td>\n",
       "      <td>Budiman justru heran ada yang hendak menirukan...</td>\n",
       "      <td>0</td>\n",
       "      <td>1</td>\n",
       "      <td>0</td>\n",
       "      <td>0</td>\n",
       "      <td>in</td>\n",
       "      <td>89388403</td>\n",
       "      <td>1735171349369524546</td>\n",
       "      <td>topan_casper</td>\n",
       "      <td>https://twitter.com/topan_casper/status/173517...</td>\n",
       "    </tr>\n",
       "    <tr>\n",
       "      <th>3</th>\n",
       "      <td>Thu Dec 14 05:34:25 +0000 2023</td>\n",
       "      <td>1735171362082411006</td>\n",
       "      <td>Karena Pak Prabowo itu penerus Pak Jokowi, buk...</td>\n",
       "      <td>0</td>\n",
       "      <td>1</td>\n",
       "      <td>0</td>\n",
       "      <td>0</td>\n",
       "      <td>in</td>\n",
       "      <td>89388403</td>\n",
       "      <td>1735171349369524546</td>\n",
       "      <td>topan_casper</td>\n",
       "      <td>https://twitter.com/topan_casper/status/173517...</td>\n",
       "    </tr>\n",
       "    <tr>\n",
       "      <th>4</th>\n",
       "      <td>Thu Dec 14 05:34:24 +0000 2023</td>\n",
       "      <td>1735171359742066707</td>\n",
       "      <td>menekankan Prabowo merupakan sosok penerus kep...</td>\n",
       "      <td>0</td>\n",
       "      <td>1</td>\n",
       "      <td>0</td>\n",
       "      <td>0</td>\n",
       "      <td>in</td>\n",
       "      <td>89388403</td>\n",
       "      <td>1735171349369524546</td>\n",
       "      <td>topan_casper</td>\n",
       "      <td>https://twitter.com/topan_casper/status/173517...</td>\n",
       "    </tr>\n",
       "  </tbody>\n",
       "</table>\n",
       "</div>"
      ],
      "text/plain": [
       "                       created_at               id_str  \\\n",
       "0  Thu Dec 14 05:34:30 +0000 2023  1735171382210879944   \n",
       "1  Thu Dec 14 05:34:26 +0000 2023  1735171367140770225   \n",
       "2  Thu Dec 14 05:34:25 +0000 2023  1735171364586397843   \n",
       "3  Thu Dec 14 05:34:25 +0000 2023  1735171362082411006   \n",
       "4  Thu Dec 14 05:34:24 +0000 2023  1735171359742066707   \n",
       "\n",
       "                                           full_text  quote_count  \\\n",
       "0  @ch_chotimah2 @prabowo @gibran_tweet Yg perlu ...            0   \n",
       "1  Ada yang meniru Pak Jokowi padahal seharusnya ...            0   \n",
       "2  Budiman justru heran ada yang hendak menirukan...            0   \n",
       "3  Karena Pak Prabowo itu penerus Pak Jokowi, buk...            0   \n",
       "4  menekankan Prabowo merupakan sosok penerus kep...            0   \n",
       "\n",
       "   reply_count  retweet_count  favorite_count lang         user_id_str  \\\n",
       "0            0              0               0   in  840092533594120192   \n",
       "1            0              0               0   in            89388403   \n",
       "2            1              0               0   in            89388403   \n",
       "3            1              0               0   in            89388403   \n",
       "4            1              0               0   in            89388403   \n",
       "\n",
       "   conversation_id_str         username  \\\n",
       "0  1734942545573245013  ahmadfathoniiii   \n",
       "1  1735171349369524546     topan_casper   \n",
       "2  1735171349369524546     topan_casper   \n",
       "3  1735171349369524546     topan_casper   \n",
       "4  1735171349369524546     topan_casper   \n",
       "\n",
       "                                           tweet_url  \n",
       "0  https://twitter.com/ahmadfathoniiii/status/173...  \n",
       "1  https://twitter.com/topan_casper/status/173517...  \n",
       "2  https://twitter.com/topan_casper/status/173517...  \n",
       "3  https://twitter.com/topan_casper/status/173517...  \n",
       "4  https://twitter.com/topan_casper/status/173517...  "
      ]
     },
     "execution_count": 14,
     "metadata": {},
     "output_type": "execute_result"
    }
   ],
   "source": [
    "prabowo_gibran.head()"
   ]
  },
  {
   "cell_type": "code",
   "execution_count": 15,
   "id": "242208f3-17d5-4a01-9de9-d8dd7700ef37",
   "metadata": {
    "tags": []
   },
   "outputs": [],
   "source": [
    "prabowo_gibran['Kandidat'] = 'Prabowo-Gibran'"
   ]
  },
  {
   "cell_type": "code",
   "execution_count": 16,
   "id": "bea8d7f9-bcff-4fc7-93bd-4354cb655773",
   "metadata": {
    "tags": []
   },
   "outputs": [
    {
     "name": "stdout",
     "output_type": "stream",
     "text": [
      "<class 'pandas.core.frame.DataFrame'>\n",
      "RangeIndex: 5187 entries, 0 to 5186\n",
      "Data columns (total 13 columns):\n",
      " #   Column               Non-Null Count  Dtype \n",
      "---  ------               --------------  ----- \n",
      " 0   created_at           5187 non-null   object\n",
      " 1   id_str               5187 non-null   int64 \n",
      " 2   full_text            5187 non-null   object\n",
      " 3   quote_count          5187 non-null   int64 \n",
      " 4   reply_count          5187 non-null   int64 \n",
      " 5   retweet_count        5187 non-null   int64 \n",
      " 6   favorite_count       5187 non-null   int64 \n",
      " 7   lang                 5187 non-null   object\n",
      " 8   user_id_str          5187 non-null   int64 \n",
      " 9   conversation_id_str  5187 non-null   int64 \n",
      " 10  username             5187 non-null   object\n",
      " 11  tweet_url            5187 non-null   object\n",
      " 12  Kandidat             5187 non-null   object\n",
      "dtypes: int64(7), object(6)\n",
      "memory usage: 526.9+ KB\n"
     ]
    }
   ],
   "source": [
    "prabowo_gibran.info()"
   ]
  },
  {
   "cell_type": "code",
   "execution_count": 17,
   "id": "75422e0e-985d-4191-b2e4-2adeaf24df01",
   "metadata": {
    "tags": []
   },
   "outputs": [
    {
     "data": {
      "text/html": [
       "<div>\n",
       "<style scoped>\n",
       "    .dataframe tbody tr th:only-of-type {\n",
       "        vertical-align: middle;\n",
       "    }\n",
       "\n",
       "    .dataframe tbody tr th {\n",
       "        vertical-align: top;\n",
       "    }\n",
       "\n",
       "    .dataframe thead th {\n",
       "        text-align: right;\n",
       "    }\n",
       "</style>\n",
       "<table border=\"1\" class=\"dataframe\">\n",
       "  <thead>\n",
       "    <tr style=\"text-align: right;\">\n",
       "      <th></th>\n",
       "      <th>created_at</th>\n",
       "      <th>id_str</th>\n",
       "      <th>full_text</th>\n",
       "      <th>quote_count</th>\n",
       "      <th>reply_count</th>\n",
       "      <th>retweet_count</th>\n",
       "      <th>favorite_count</th>\n",
       "      <th>lang</th>\n",
       "      <th>user_id_str</th>\n",
       "      <th>conversation_id_str</th>\n",
       "      <th>username</th>\n",
       "      <th>tweet_url</th>\n",
       "      <th>Kandidat</th>\n",
       "    </tr>\n",
       "  </thead>\n",
       "  <tbody>\n",
       "    <tr>\n",
       "      <th>0</th>\n",
       "      <td>Thu Dec 14 05:34:30 +0000 2023</td>\n",
       "      <td>1735171382210879944</td>\n",
       "      <td>@ch_chotimah2 @prabowo @gibran_tweet Yg perlu ...</td>\n",
       "      <td>0</td>\n",
       "      <td>0</td>\n",
       "      <td>0</td>\n",
       "      <td>0</td>\n",
       "      <td>in</td>\n",
       "      <td>840092533594120192</td>\n",
       "      <td>1734942545573245013</td>\n",
       "      <td>ahmadfathoniiii</td>\n",
       "      <td>https://twitter.com/ahmadfathoniiii/status/173...</td>\n",
       "      <td>Prabowo-Gibran</td>\n",
       "    </tr>\n",
       "    <tr>\n",
       "      <th>1</th>\n",
       "      <td>Thu Dec 14 05:34:26 +0000 2023</td>\n",
       "      <td>1735171367140770225</td>\n",
       "      <td>Ada yang meniru Pak Jokowi padahal seharusnya ...</td>\n",
       "      <td>0</td>\n",
       "      <td>0</td>\n",
       "      <td>0</td>\n",
       "      <td>0</td>\n",
       "      <td>in</td>\n",
       "      <td>89388403</td>\n",
       "      <td>1735171349369524546</td>\n",
       "      <td>topan_casper</td>\n",
       "      <td>https://twitter.com/topan_casper/status/173517...</td>\n",
       "      <td>Prabowo-Gibran</td>\n",
       "    </tr>\n",
       "    <tr>\n",
       "      <th>2</th>\n",
       "      <td>Thu Dec 14 05:34:25 +0000 2023</td>\n",
       "      <td>1735171364586397843</td>\n",
       "      <td>Budiman justru heran ada yang hendak menirukan...</td>\n",
       "      <td>0</td>\n",
       "      <td>1</td>\n",
       "      <td>0</td>\n",
       "      <td>0</td>\n",
       "      <td>in</td>\n",
       "      <td>89388403</td>\n",
       "      <td>1735171349369524546</td>\n",
       "      <td>topan_casper</td>\n",
       "      <td>https://twitter.com/topan_casper/status/173517...</td>\n",
       "      <td>Prabowo-Gibran</td>\n",
       "    </tr>\n",
       "    <tr>\n",
       "      <th>3</th>\n",
       "      <td>Thu Dec 14 05:34:25 +0000 2023</td>\n",
       "      <td>1735171362082411006</td>\n",
       "      <td>Karena Pak Prabowo itu penerus Pak Jokowi, buk...</td>\n",
       "      <td>0</td>\n",
       "      <td>1</td>\n",
       "      <td>0</td>\n",
       "      <td>0</td>\n",
       "      <td>in</td>\n",
       "      <td>89388403</td>\n",
       "      <td>1735171349369524546</td>\n",
       "      <td>topan_casper</td>\n",
       "      <td>https://twitter.com/topan_casper/status/173517...</td>\n",
       "      <td>Prabowo-Gibran</td>\n",
       "    </tr>\n",
       "    <tr>\n",
       "      <th>4</th>\n",
       "      <td>Thu Dec 14 05:34:24 +0000 2023</td>\n",
       "      <td>1735171359742066707</td>\n",
       "      <td>menekankan Prabowo merupakan sosok penerus kep...</td>\n",
       "      <td>0</td>\n",
       "      <td>1</td>\n",
       "      <td>0</td>\n",
       "      <td>0</td>\n",
       "      <td>in</td>\n",
       "      <td>89388403</td>\n",
       "      <td>1735171349369524546</td>\n",
       "      <td>topan_casper</td>\n",
       "      <td>https://twitter.com/topan_casper/status/173517...</td>\n",
       "      <td>Prabowo-Gibran</td>\n",
       "    </tr>\n",
       "  </tbody>\n",
       "</table>\n",
       "</div>"
      ],
      "text/plain": [
       "                       created_at               id_str  \\\n",
       "0  Thu Dec 14 05:34:30 +0000 2023  1735171382210879944   \n",
       "1  Thu Dec 14 05:34:26 +0000 2023  1735171367140770225   \n",
       "2  Thu Dec 14 05:34:25 +0000 2023  1735171364586397843   \n",
       "3  Thu Dec 14 05:34:25 +0000 2023  1735171362082411006   \n",
       "4  Thu Dec 14 05:34:24 +0000 2023  1735171359742066707   \n",
       "\n",
       "                                           full_text  quote_count  \\\n",
       "0  @ch_chotimah2 @prabowo @gibran_tweet Yg perlu ...            0   \n",
       "1  Ada yang meniru Pak Jokowi padahal seharusnya ...            0   \n",
       "2  Budiman justru heran ada yang hendak menirukan...            0   \n",
       "3  Karena Pak Prabowo itu penerus Pak Jokowi, buk...            0   \n",
       "4  menekankan Prabowo merupakan sosok penerus kep...            0   \n",
       "\n",
       "   reply_count  retweet_count  favorite_count lang         user_id_str  \\\n",
       "0            0              0               0   in  840092533594120192   \n",
       "1            0              0               0   in            89388403   \n",
       "2            1              0               0   in            89388403   \n",
       "3            1              0               0   in            89388403   \n",
       "4            1              0               0   in            89388403   \n",
       "\n",
       "   conversation_id_str         username  \\\n",
       "0  1734942545573245013  ahmadfathoniiii   \n",
       "1  1735171349369524546     topan_casper   \n",
       "2  1735171349369524546     topan_casper   \n",
       "3  1735171349369524546     topan_casper   \n",
       "4  1735171349369524546     topan_casper   \n",
       "\n",
       "                                           tweet_url        Kandidat  \n",
       "0  https://twitter.com/ahmadfathoniiii/status/173...  Prabowo-Gibran  \n",
       "1  https://twitter.com/topan_casper/status/173517...  Prabowo-Gibran  \n",
       "2  https://twitter.com/topan_casper/status/173517...  Prabowo-Gibran  \n",
       "3  https://twitter.com/topan_casper/status/173517...  Prabowo-Gibran  \n",
       "4  https://twitter.com/topan_casper/status/173517...  Prabowo-Gibran  "
      ]
     },
     "execution_count": 17,
     "metadata": {},
     "output_type": "execute_result"
    }
   ],
   "source": [
    "prabowo_gibran.head()"
   ]
  },
  {
   "cell_type": "markdown",
   "id": "93232f20-af67-4879-89a1-d52ba1c3c396",
   "metadata": {},
   "source": [
    "### Ganjar - Mahfud"
   ]
  },
  {
   "cell_type": "code",
   "execution_count": 18,
   "id": "41fa62c7-463e-4dc7-990c-6732521f4164",
   "metadata": {
    "tags": []
   },
   "outputs": [],
   "source": [
    "df24 = pd.read_csv('Ganjar-Mahfud.csv', delimiter=\";\")\n",
    "df25 = pd.read_csv('Ganjar-Mahfud_vol.2.csv', delimiter=\";\")\n",
    "df26 = pd.read_csv('Ganjar_Mahfud_2024.csv', delimiter=\";\")\n",
    "df27 = pd.read_csv('Cawapres_Mahfud.csv', delimiter=\";\")\n",
    "df28 = pd.read_csv('Capres_Ganjar.csv', delimiter=\";\")\n",
    "df29 = pd.read_csv('Capres_Ganjar_Pranowo.csv', delimiter=\";\")\n",
    "df30 = pd.read_csv('GanjarTolol.csv', delimiter=\";\")\n",
    "df31 = pd.read_csv('GanjarBodoh.csv', delimiter=\";\")\n",
    "df32 = pd.read_csv('#MahfudLebihBaik.csv', delimiter=\";\")\n",
    "df33 = pd.read_csv('#GanjarMahfudSatSet.csv', delimiter=\";\")\n",
    "df34 = pd.read_csv('#Ganjar-Mahfud.csv', delimiter=\";\")\n",
    "df35 = pd.read_csv('Ganjar_Presiden_2024.csv', delimiter=\";\")\n",
    "df36 = pd.read_csv('#Dukung-Ganjar.csv', delimiter=\";\")"
   ]
  },
  {
   "cell_type": "code",
   "execution_count": 19,
   "id": "b8b20d02-c605-4bf4-9b8f-568dd81ae99f",
   "metadata": {
    "tags": []
   },
   "outputs": [],
   "source": [
    "ganjar_mahfud = pd.concat([df24, df25, df26, df27, df28, df29, df30, df31, df32, df33, df34, df35, df36], ignore_index=True)"
   ]
  },
  {
   "cell_type": "code",
   "execution_count": 20,
   "id": "6d511742-8084-49cd-b265-11a0665edb57",
   "metadata": {
    "tags": []
   },
   "outputs": [
    {
     "data": {
      "text/plain": [
       "(1861, 12)"
      ]
     },
     "execution_count": 20,
     "metadata": {},
     "output_type": "execute_result"
    }
   ],
   "source": [
    "ganjar_mahfud.shape"
   ]
  },
  {
   "cell_type": "code",
   "execution_count": 21,
   "id": "3897ec38-5b31-4dff-ab21-939031214fe5",
   "metadata": {
    "tags": []
   },
   "outputs": [
    {
     "data": {
      "text/plain": [
       "10"
      ]
     },
     "execution_count": 21,
     "metadata": {},
     "output_type": "execute_result"
    }
   ],
   "source": [
    "ganjar_mahfud.duplicated().sum()"
   ]
  },
  {
   "cell_type": "code",
   "execution_count": 22,
   "id": "9bbf7717-a19a-4965-8f79-f42193e6c1b6",
   "metadata": {
    "tags": []
   },
   "outputs": [],
   "source": [
    "ganjar_mahfud['Kandidat'] = 'Ganjar-Mahfud'"
   ]
  },
  {
   "cell_type": "code",
   "execution_count": 23,
   "id": "5f918138-cb05-4f89-bc45-fa178cc3efdf",
   "metadata": {
    "tags": []
   },
   "outputs": [
    {
     "data": {
      "text/plain": [
       "10"
      ]
     },
     "execution_count": 23,
     "metadata": {},
     "output_type": "execute_result"
    }
   ],
   "source": [
    "ganjar_mahfud.duplicated().sum()"
   ]
  },
  {
   "cell_type": "code",
   "execution_count": 24,
   "id": "11dac9dd-f57d-485a-8da4-4660cd02474f",
   "metadata": {
    "tags": []
   },
   "outputs": [
    {
     "data": {
      "text/html": [
       "<div>\n",
       "<style scoped>\n",
       "    .dataframe tbody tr th:only-of-type {\n",
       "        vertical-align: middle;\n",
       "    }\n",
       "\n",
       "    .dataframe tbody tr th {\n",
       "        vertical-align: top;\n",
       "    }\n",
       "\n",
       "    .dataframe thead th {\n",
       "        text-align: right;\n",
       "    }\n",
       "</style>\n",
       "<table border=\"1\" class=\"dataframe\">\n",
       "  <thead>\n",
       "    <tr style=\"text-align: right;\">\n",
       "      <th></th>\n",
       "      <th>created_at</th>\n",
       "      <th>id_str</th>\n",
       "      <th>full_text</th>\n",
       "      <th>quote_count</th>\n",
       "      <th>reply_count</th>\n",
       "      <th>retweet_count</th>\n",
       "      <th>favorite_count</th>\n",
       "      <th>lang</th>\n",
       "      <th>user_id_str</th>\n",
       "      <th>conversation_id_str</th>\n",
       "      <th>username</th>\n",
       "      <th>tweet_url</th>\n",
       "      <th>Kandidat</th>\n",
       "    </tr>\n",
       "  </thead>\n",
       "  <tbody>\n",
       "    <tr>\n",
       "      <th>0</th>\n",
       "      <td>Thu Dec 14 05:43:50 +0000 2023</td>\n",
       "      <td>1735173731797160380</td>\n",
       "      <td>@Berburudsknan Pemimpin terbaik emang Ganjar M...</td>\n",
       "      <td>0</td>\n",
       "      <td>0</td>\n",
       "      <td>0</td>\n",
       "      <td>0</td>\n",
       "      <td>in</td>\n",
       "      <td>1698260695547330560</td>\n",
       "      <td>1735170270577709185</td>\n",
       "      <td>arasanras</td>\n",
       "      <td>https://twitter.com/arasanras/status/173517373...</td>\n",
       "      <td>Ganjar-Mahfud</td>\n",
       "    </tr>\n",
       "    <tr>\n",
       "      <th>1</th>\n",
       "      <td>Thu Dec 14 05:43:49 +0000 2023</td>\n",
       "      <td>1735173727401480394</td>\n",
       "      <td>Ganjar-Mahfud dianggap sebagai pemimpin yang t...</td>\n",
       "      <td>0</td>\n",
       "      <td>0</td>\n",
       "      <td>0</td>\n",
       "      <td>0</td>\n",
       "      <td>in</td>\n",
       "      <td>1689828600823029760</td>\n",
       "      <td>1735173727401480394</td>\n",
       "      <td>carlaelviana</td>\n",
       "      <td>https://twitter.com/carlaelviana/status/173517...</td>\n",
       "      <td>Ganjar-Mahfud</td>\n",
       "    </tr>\n",
       "    <tr>\n",
       "      <th>2</th>\n",
       "      <td>Thu Dec 14 05:43:48 +0000 2023</td>\n",
       "      <td>1735173724033396759</td>\n",
       "      <td>@NoBeauty_Queen ganjar-mahfud pasti akan mewuj...</td>\n",
       "      <td>0</td>\n",
       "      <td>0</td>\n",
       "      <td>0</td>\n",
       "      <td>0</td>\n",
       "      <td>in</td>\n",
       "      <td>880523523017420804</td>\n",
       "      <td>1735170356909052142</td>\n",
       "      <td>includfe</td>\n",
       "      <td>https://twitter.com/includfe/status/1735173724...</td>\n",
       "      <td>Ganjar-Mahfud</td>\n",
       "    </tr>\n",
       "    <tr>\n",
       "      <th>3</th>\n",
       "      <td>Thu Dec 14 05:43:47 +0000 2023</td>\n",
       "      <td>1735173718245269666</td>\n",
       "      <td>Ganjar-Mahfud, pasangan yang membawa semangat ...</td>\n",
       "      <td>0</td>\n",
       "      <td>0</td>\n",
       "      <td>0</td>\n",
       "      <td>0</td>\n",
       "      <td>in</td>\n",
       "      <td>1680917678322782213</td>\n",
       "      <td>1735173718245269666</td>\n",
       "      <td>aan_hadiyan_</td>\n",
       "      <td>https://twitter.com/aan_hadiyan_/status/173517...</td>\n",
       "      <td>Ganjar-Mahfud</td>\n",
       "    </tr>\n",
       "    <tr>\n",
       "      <th>4</th>\n",
       "      <td>Thu Dec 14 05:43:37 +0000 2023</td>\n",
       "      <td>1735173677887705168</td>\n",
       "      <td>Dukungan untuk Ganjar-Mahfud terus mengalir ka...</td>\n",
       "      <td>0</td>\n",
       "      <td>0</td>\n",
       "      <td>0</td>\n",
       "      <td>0</td>\n",
       "      <td>in</td>\n",
       "      <td>1679709626554777602</td>\n",
       "      <td>1735173677887705168</td>\n",
       "      <td>__muhfarhannn</td>\n",
       "      <td>https://twitter.com/__muhfarhannn/status/17351...</td>\n",
       "      <td>Ganjar-Mahfud</td>\n",
       "    </tr>\n",
       "  </tbody>\n",
       "</table>\n",
       "</div>"
      ],
      "text/plain": [
       "                       created_at               id_str  \\\n",
       "0  Thu Dec 14 05:43:50 +0000 2023  1735173731797160380   \n",
       "1  Thu Dec 14 05:43:49 +0000 2023  1735173727401480394   \n",
       "2  Thu Dec 14 05:43:48 +0000 2023  1735173724033396759   \n",
       "3  Thu Dec 14 05:43:47 +0000 2023  1735173718245269666   \n",
       "4  Thu Dec 14 05:43:37 +0000 2023  1735173677887705168   \n",
       "\n",
       "                                           full_text  quote_count  \\\n",
       "0  @Berburudsknan Pemimpin terbaik emang Ganjar M...            0   \n",
       "1  Ganjar-Mahfud dianggap sebagai pemimpin yang t...            0   \n",
       "2  @NoBeauty_Queen ganjar-mahfud pasti akan mewuj...            0   \n",
       "3  Ganjar-Mahfud, pasangan yang membawa semangat ...            0   \n",
       "4  Dukungan untuk Ganjar-Mahfud terus mengalir ka...            0   \n",
       "\n",
       "   reply_count  retweet_count  favorite_count lang          user_id_str  \\\n",
       "0            0              0               0   in  1698260695547330560   \n",
       "1            0              0               0   in  1689828600823029760   \n",
       "2            0              0               0   in   880523523017420804   \n",
       "3            0              0               0   in  1680917678322782213   \n",
       "4            0              0               0   in  1679709626554777602   \n",
       "\n",
       "   conversation_id_str       username  \\\n",
       "0  1735170270577709185      arasanras   \n",
       "1  1735173727401480394   carlaelviana   \n",
       "2  1735170356909052142       includfe   \n",
       "3  1735173718245269666   aan_hadiyan_   \n",
       "4  1735173677887705168  __muhfarhannn   \n",
       "\n",
       "                                           tweet_url       Kandidat  \n",
       "0  https://twitter.com/arasanras/status/173517373...  Ganjar-Mahfud  \n",
       "1  https://twitter.com/carlaelviana/status/173517...  Ganjar-Mahfud  \n",
       "2  https://twitter.com/includfe/status/1735173724...  Ganjar-Mahfud  \n",
       "3  https://twitter.com/aan_hadiyan_/status/173517...  Ganjar-Mahfud  \n",
       "4  https://twitter.com/__muhfarhannn/status/17351...  Ganjar-Mahfud  "
      ]
     },
     "execution_count": 24,
     "metadata": {},
     "output_type": "execute_result"
    }
   ],
   "source": [
    "ganjar_mahfud.head()"
   ]
  },
  {
   "cell_type": "markdown",
   "id": "5dfddcd7-5682-4c6f-8ee9-dc61162d35d9",
   "metadata": {},
   "source": [
    "#### Result Dataset"
   ]
  },
  {
   "cell_type": "code",
   "execution_count": 25,
   "id": "08d5dac1-8311-4b07-a302-a4cd691716bf",
   "metadata": {
    "tags": []
   },
   "outputs": [],
   "source": [
    "df_final = pd.concat([anies_muhaimin, prabowo_gibran, ganjar_mahfud], ignore_index=True)"
   ]
  },
  {
   "cell_type": "code",
   "execution_count": 26,
   "id": "5b45f954-3838-4eda-be0b-f6169e7698c0",
   "metadata": {
    "tags": []
   },
   "outputs": [
    {
     "data": {
      "text/plain": [
       "(10537, 13)"
      ]
     },
     "execution_count": 26,
     "metadata": {},
     "output_type": "execute_result"
    }
   ],
   "source": [
    "df_final.shape"
   ]
  },
  {
   "cell_type": "code",
   "execution_count": 27,
   "id": "aad15942-1893-489d-b58a-9e4b68a2c946",
   "metadata": {},
   "outputs": [
    {
     "data": {
      "text/html": [
       "<div>\n",
       "<style scoped>\n",
       "    .dataframe tbody tr th:only-of-type {\n",
       "        vertical-align: middle;\n",
       "    }\n",
       "\n",
       "    .dataframe tbody tr th {\n",
       "        vertical-align: top;\n",
       "    }\n",
       "\n",
       "    .dataframe thead th {\n",
       "        text-align: right;\n",
       "    }\n",
       "</style>\n",
       "<table border=\"1\" class=\"dataframe\">\n",
       "  <thead>\n",
       "    <tr style=\"text-align: right;\">\n",
       "      <th></th>\n",
       "      <th>created_at</th>\n",
       "      <th>id_str</th>\n",
       "      <th>full_text</th>\n",
       "      <th>quote_count</th>\n",
       "      <th>reply_count</th>\n",
       "      <th>retweet_count</th>\n",
       "      <th>favorite_count</th>\n",
       "      <th>lang</th>\n",
       "      <th>user_id_str</th>\n",
       "      <th>conversation_id_str</th>\n",
       "      <th>username</th>\n",
       "      <th>tweet_url</th>\n",
       "      <th>Kandidat</th>\n",
       "    </tr>\n",
       "  </thead>\n",
       "  <tbody>\n",
       "    <tr>\n",
       "      <th>0</th>\n",
       "      <td>Thu Dec 14 05:15:57 +0000 2023</td>\n",
       "      <td>1735166716563673457</td>\n",
       "      <td>Jaringan Perempuan Nahdliyin untuk ANIS MUHAIM...</td>\n",
       "      <td>0</td>\n",
       "      <td>0</td>\n",
       "      <td>0</td>\n",
       "      <td>0</td>\n",
       "      <td>in</td>\n",
       "      <td>1222731781444489216</td>\n",
       "      <td>1735166716563673457</td>\n",
       "      <td>PkbPurworejo</td>\n",
       "      <td>https://twitter.com/PkbPurworejo/status/173516...</td>\n",
       "      <td>Anies-Muhaimin</td>\n",
       "    </tr>\n",
       "    <tr>\n",
       "      <th>1</th>\n",
       "      <td>Thu Dec 14 04:32:00 +0000 2023</td>\n",
       "      <td>1735155653902270493</td>\n",
       "      <td>@BosPurwa Setelah melihat debat kemaren, tanpa...</td>\n",
       "      <td>0</td>\n",
       "      <td>0</td>\n",
       "      <td>0</td>\n",
       "      <td>0</td>\n",
       "      <td>in</td>\n",
       "      <td>1428102822130642944</td>\n",
       "      <td>1734853374695354729</td>\n",
       "      <td>BaladewaDon</td>\n",
       "      <td>https://twitter.com/BaladewaDon/status/1735155...</td>\n",
       "      <td>Anies-Muhaimin</td>\n",
       "    </tr>\n",
       "    <tr>\n",
       "      <th>2</th>\n",
       "      <td>Thu Dec 14 03:16:38 +0000 2023</td>\n",
       "      <td>1735136689893585208</td>\n",
       "      <td>@pemilunetwork Isi Komen banyak Anis-Muhaimin,...</td>\n",
       "      <td>0</td>\n",
       "      <td>0</td>\n",
       "      <td>0</td>\n",
       "      <td>0</td>\n",
       "      <td>in</td>\n",
       "      <td>219564339</td>\n",
       "      <td>1734443620344963191</td>\n",
       "      <td>sahrulmartenank</td>\n",
       "      <td>https://twitter.com/sahrulmartenank/status/173...</td>\n",
       "      <td>Anies-Muhaimin</td>\n",
       "    </tr>\n",
       "    <tr>\n",
       "      <th>3</th>\n",
       "      <td>Thu Dec 14 03:15:17 +0000 2023</td>\n",
       "      <td>1735136350368944248</td>\n",
       "      <td>@sigitwid Telak banget ya..#AnisMuhaimin mantap</td>\n",
       "      <td>0</td>\n",
       "      <td>0</td>\n",
       "      <td>0</td>\n",
       "      <td>0</td>\n",
       "      <td>in</td>\n",
       "      <td>1376980848</td>\n",
       "      <td>1734594771778511305</td>\n",
       "      <td>AmLoebis</td>\n",
       "      <td>https://twitter.com/AmLoebis/status/1735136350...</td>\n",
       "      <td>Anies-Muhaimin</td>\n",
       "    </tr>\n",
       "    <tr>\n",
       "      <th>4</th>\n",
       "      <td>Thu Dec 14 03:13:31 +0000 2023</td>\n",
       "      <td>1735135902266175677</td>\n",
       "      <td>@sobat_anies Ampe julurin lidah ya..kayak itu ...</td>\n",
       "      <td>0</td>\n",
       "      <td>0</td>\n",
       "      <td>0</td>\n",
       "      <td>0</td>\n",
       "      <td>in</td>\n",
       "      <td>1376980848</td>\n",
       "      <td>1734768732235571476</td>\n",
       "      <td>AmLoebis</td>\n",
       "      <td>https://twitter.com/AmLoebis/status/1735135902...</td>\n",
       "      <td>Anies-Muhaimin</td>\n",
       "    </tr>\n",
       "    <tr>\n",
       "      <th>...</th>\n",
       "      <td>...</td>\n",
       "      <td>...</td>\n",
       "      <td>...</td>\n",
       "      <td>...</td>\n",
       "      <td>...</td>\n",
       "      <td>...</td>\n",
       "      <td>...</td>\n",
       "      <td>...</td>\n",
       "      <td>...</td>\n",
       "      <td>...</td>\n",
       "      <td>...</td>\n",
       "      <td>...</td>\n",
       "      <td>...</td>\n",
       "    </tr>\n",
       "    <tr>\n",
       "      <th>10532</th>\n",
       "      <td>Sat Dec 23 01:32:42 +0000 2023</td>\n",
       "      <td>1738372025683730697</td>\n",
       "      <td>AYO DUKUNG GANJAR-MAHFUD UNTUK INDONESIA MAJU🔥...</td>\n",
       "      <td>0</td>\n",
       "      <td>0</td>\n",
       "      <td>0</td>\n",
       "      <td>0</td>\n",
       "      <td>in</td>\n",
       "      <td>1711545831210590208</td>\n",
       "      <td>1738372025683730697</td>\n",
       "      <td>cacinggkecill33</td>\n",
       "      <td>https://twitter.com/cacinggkecill33/status/173...</td>\n",
       "      <td>Ganjar-Mahfud</td>\n",
       "    </tr>\n",
       "    <tr>\n",
       "      <th>10533</th>\n",
       "      <td>Sat Dec 23 01:29:47 +0000 2023</td>\n",
       "      <td>1738371287930843497</td>\n",
       "      <td>@detikcom AYO DUKUNG GANJAR-MAHFUD UNTUK INDON...</td>\n",
       "      <td>0</td>\n",
       "      <td>0</td>\n",
       "      <td>0</td>\n",
       "      <td>0</td>\n",
       "      <td>in</td>\n",
       "      <td>1711545831210590208</td>\n",
       "      <td>1738066836720377916</td>\n",
       "      <td>cacinggkecill33</td>\n",
       "      <td>https://twitter.com/cacinggkecill33/status/173...</td>\n",
       "      <td>Ganjar-Mahfud</td>\n",
       "    </tr>\n",
       "    <tr>\n",
       "      <th>10534</th>\n",
       "      <td>Sat Dec 23 01:27:29 +0000 2023</td>\n",
       "      <td>1738370712291684507</td>\n",
       "      <td>YoshY83919872: 😂 Sul . . Samsul,ini kelepas da...</td>\n",
       "      <td>0</td>\n",
       "      <td>0</td>\n",
       "      <td>0</td>\n",
       "      <td>0</td>\n",
       "      <td>in</td>\n",
       "      <td>1524421097239846913</td>\n",
       "      <td>1738370712291684507</td>\n",
       "      <td>GustavoSilva080</td>\n",
       "      <td>https://twitter.com/GustavoSilva080/status/173...</td>\n",
       "      <td>Ganjar-Mahfud</td>\n",
       "    </tr>\n",
       "    <tr>\n",
       "      <th>10535</th>\n",
       "      <td>Sat Dec 23 01:13:46 +0000 2023</td>\n",
       "      <td>1738367259394056246</td>\n",
       "      <td>Salut buat Diaspora , pilih dukung Ganjar -Mah...</td>\n",
       "      <td>0</td>\n",
       "      <td>0</td>\n",
       "      <td>0</td>\n",
       "      <td>0</td>\n",
       "      <td>in</td>\n",
       "      <td>1612680891771551744</td>\n",
       "      <td>1738367259394056246</td>\n",
       "      <td>benzeri_arios</td>\n",
       "      <td>https://twitter.com/benzeri_arios/status/17383...</td>\n",
       "      <td>Ganjar-Mahfud</td>\n",
       "    </tr>\n",
       "    <tr>\n",
       "      <th>10536</th>\n",
       "      <td>Sat Dec 23 01:09:20 +0000 2023</td>\n",
       "      <td>1738366145261121683</td>\n",
       "      <td>@detikcom Cak imin payah, harusnya langsung ba...</td>\n",
       "      <td>0</td>\n",
       "      <td>0</td>\n",
       "      <td>0</td>\n",
       "      <td>1</td>\n",
       "      <td>in</td>\n",
       "      <td>62184923</td>\n",
       "      <td>1738364084750614657</td>\n",
       "      <td>kumiz_ardi</td>\n",
       "      <td>https://twitter.com/kumiz_ardi/status/17383661...</td>\n",
       "      <td>Ganjar-Mahfud</td>\n",
       "    </tr>\n",
       "  </tbody>\n",
       "</table>\n",
       "<p>10537 rows × 13 columns</p>\n",
       "</div>"
      ],
      "text/plain": [
       "                           created_at               id_str  \\\n",
       "0      Thu Dec 14 05:15:57 +0000 2023  1735166716563673457   \n",
       "1      Thu Dec 14 04:32:00 +0000 2023  1735155653902270493   \n",
       "2      Thu Dec 14 03:16:38 +0000 2023  1735136689893585208   \n",
       "3      Thu Dec 14 03:15:17 +0000 2023  1735136350368944248   \n",
       "4      Thu Dec 14 03:13:31 +0000 2023  1735135902266175677   \n",
       "...                               ...                  ...   \n",
       "10532  Sat Dec 23 01:32:42 +0000 2023  1738372025683730697   \n",
       "10533  Sat Dec 23 01:29:47 +0000 2023  1738371287930843497   \n",
       "10534  Sat Dec 23 01:27:29 +0000 2023  1738370712291684507   \n",
       "10535  Sat Dec 23 01:13:46 +0000 2023  1738367259394056246   \n",
       "10536  Sat Dec 23 01:09:20 +0000 2023  1738366145261121683   \n",
       "\n",
       "                                               full_text  quote_count  \\\n",
       "0      Jaringan Perempuan Nahdliyin untuk ANIS MUHAIM...            0   \n",
       "1      @BosPurwa Setelah melihat debat kemaren, tanpa...            0   \n",
       "2      @pemilunetwork Isi Komen banyak Anis-Muhaimin,...            0   \n",
       "3        @sigitwid Telak banget ya..#AnisMuhaimin mantap            0   \n",
       "4      @sobat_anies Ampe julurin lidah ya..kayak itu ...            0   \n",
       "...                                                  ...          ...   \n",
       "10532  AYO DUKUNG GANJAR-MAHFUD UNTUK INDONESIA MAJU🔥...            0   \n",
       "10533  @detikcom AYO DUKUNG GANJAR-MAHFUD UNTUK INDON...            0   \n",
       "10534  YoshY83919872: 😂 Sul . . Samsul,ini kelepas da...            0   \n",
       "10535  Salut buat Diaspora , pilih dukung Ganjar -Mah...            0   \n",
       "10536  @detikcom Cak imin payah, harusnya langsung ba...            0   \n",
       "\n",
       "       reply_count  retweet_count  favorite_count lang          user_id_str  \\\n",
       "0                0              0               0   in  1222731781444489216   \n",
       "1                0              0               0   in  1428102822130642944   \n",
       "2                0              0               0   in            219564339   \n",
       "3                0              0               0   in           1376980848   \n",
       "4                0              0               0   in           1376980848   \n",
       "...            ...            ...             ...  ...                  ...   \n",
       "10532            0              0               0   in  1711545831210590208   \n",
       "10533            0              0               0   in  1711545831210590208   \n",
       "10534            0              0               0   in  1524421097239846913   \n",
       "10535            0              0               0   in  1612680891771551744   \n",
       "10536            0              0               1   in             62184923   \n",
       "\n",
       "       conversation_id_str         username  \\\n",
       "0      1735166716563673457     PkbPurworejo   \n",
       "1      1734853374695354729      BaladewaDon   \n",
       "2      1734443620344963191  sahrulmartenank   \n",
       "3      1734594771778511305         AmLoebis   \n",
       "4      1734768732235571476         AmLoebis   \n",
       "...                    ...              ...   \n",
       "10532  1738372025683730697  cacinggkecill33   \n",
       "10533  1738066836720377916  cacinggkecill33   \n",
       "10534  1738370712291684507  GustavoSilva080   \n",
       "10535  1738367259394056246    benzeri_arios   \n",
       "10536  1738364084750614657       kumiz_ardi   \n",
       "\n",
       "                                               tweet_url        Kandidat  \n",
       "0      https://twitter.com/PkbPurworejo/status/173516...  Anies-Muhaimin  \n",
       "1      https://twitter.com/BaladewaDon/status/1735155...  Anies-Muhaimin  \n",
       "2      https://twitter.com/sahrulmartenank/status/173...  Anies-Muhaimin  \n",
       "3      https://twitter.com/AmLoebis/status/1735136350...  Anies-Muhaimin  \n",
       "4      https://twitter.com/AmLoebis/status/1735135902...  Anies-Muhaimin  \n",
       "...                                                  ...             ...  \n",
       "10532  https://twitter.com/cacinggkecill33/status/173...   Ganjar-Mahfud  \n",
       "10533  https://twitter.com/cacinggkecill33/status/173...   Ganjar-Mahfud  \n",
       "10534  https://twitter.com/GustavoSilva080/status/173...   Ganjar-Mahfud  \n",
       "10535  https://twitter.com/benzeri_arios/status/17383...   Ganjar-Mahfud  \n",
       "10536  https://twitter.com/kumiz_ardi/status/17383661...   Ganjar-Mahfud  \n",
       "\n",
       "[10537 rows x 13 columns]"
      ]
     },
     "execution_count": 27,
     "metadata": {},
     "output_type": "execute_result"
    }
   ],
   "source": [
    "df_final.iloc[:, :]"
   ]
  },
  {
   "cell_type": "code",
   "execution_count": 28,
   "id": "f5bf5a94-519d-4a71-8f0c-ef4317bc2ab4",
   "metadata": {},
   "outputs": [
    {
     "data": {
      "text/plain": [
       "147"
      ]
     },
     "execution_count": 28,
     "metadata": {},
     "output_type": "execute_result"
    }
   ],
   "source": [
    "df_final.duplicated().sum()"
   ]
  },
  {
   "cell_type": "code",
   "execution_count": 30,
   "id": "9619005c-1943-4367-8c73-57549249af66",
   "metadata": {
    "tags": []
   },
   "outputs": [],
   "source": [
    "df_final.to_csv('Sentiment Pilpres 2023.csv')"
   ]
  },
  {
   "cell_type": "code",
   "execution_count": null,
   "id": "146211aa-3409-4903-a044-e05570d11f11",
   "metadata": {},
   "outputs": [],
   "source": []
  }
 ],
 "metadata": {
  "kernelspec": {
   "display_name": "Python 3 (ipykernel)",
   "language": "python",
   "name": "python3"
  },
  "language_info": {
   "codemirror_mode": {
    "name": "ipython",
    "version": 3
   },
   "file_extension": ".py",
   "mimetype": "text/x-python",
   "name": "python",
   "nbconvert_exporter": "python",
   "pygments_lexer": "ipython3",
   "version": "3.11.4"
  }
 },
 "nbformat": 4,
 "nbformat_minor": 5
}
