{
 "cells": [
  {
   "cell_type": "markdown",
   "id": "d8dc7877-cec7-4f41-8f74-18506b48cd71",
   "metadata": {},
   "source": [
    "# Sentiment Analysis Predictive"
   ]
  },
  {
   "cell_type": "code",
   "execution_count": 1,
   "id": "ed9a32b9-d1e9-420d-80ea-d970d3f7d443",
   "metadata": {
    "tags": []
   },
   "outputs": [],
   "source": [
    "import pandas as pd"
   ]
  },
  {
   "cell_type": "markdown",
   "id": "61e696d9-d1fa-4cff-93c3-016477fd45a3",
   "metadata": {},
   "source": [
    "### Import Dataset"
   ]
  },
  {
   "cell_type": "code",
   "execution_count": 2,
   "id": "5c7fe243-771d-4bdd-802a-e5354c73ac79",
   "metadata": {
    "tags": []
   },
   "outputs": [],
   "source": [
    "df = pd.read_csv(\"Sentiment Pilpres 2023.csv\")"
   ]
  },
  {
   "cell_type": "code",
   "execution_count": 3,
   "id": "3016f866-2dc6-468e-b184-f6e61c2078f5",
   "metadata": {
    "tags": []
   },
   "outputs": [
    {
     "data": {
      "text/html": [
       "<div>\n",
       "<style scoped>\n",
       "    .dataframe tbody tr th:only-of-type {\n",
       "        vertical-align: middle;\n",
       "    }\n",
       "\n",
       "    .dataframe tbody tr th {\n",
       "        vertical-align: top;\n",
       "    }\n",
       "\n",
       "    .dataframe thead th {\n",
       "        text-align: right;\n",
       "    }\n",
       "</style>\n",
       "<table border=\"1\" class=\"dataframe\">\n",
       "  <thead>\n",
       "    <tr style=\"text-align: right;\">\n",
       "      <th></th>\n",
       "      <th>Unnamed: 0</th>\n",
       "      <th>created_at</th>\n",
       "      <th>id_str</th>\n",
       "      <th>full_text</th>\n",
       "      <th>quote_count</th>\n",
       "      <th>reply_count</th>\n",
       "      <th>retweet_count</th>\n",
       "      <th>favorite_count</th>\n",
       "      <th>lang</th>\n",
       "      <th>user_id_str</th>\n",
       "      <th>conversation_id_str</th>\n",
       "      <th>username</th>\n",
       "      <th>tweet_url</th>\n",
       "      <th>Kandidat</th>\n",
       "    </tr>\n",
       "  </thead>\n",
       "  <tbody>\n",
       "    <tr>\n",
       "      <th>0</th>\n",
       "      <td>0</td>\n",
       "      <td>Thu Dec 14 05:15:57 +0000 2023</td>\n",
       "      <td>1735166716563673457</td>\n",
       "      <td>Jaringan Perempuan Nahdliyin untuk ANIS MUHAIM...</td>\n",
       "      <td>0.0</td>\n",
       "      <td>0</td>\n",
       "      <td>0.0</td>\n",
       "      <td>0.0</td>\n",
       "      <td>in</td>\n",
       "      <td>1222731781444489216</td>\n",
       "      <td>1735166716563673457</td>\n",
       "      <td>PkbPurworejo</td>\n",
       "      <td>https://twitter.com/PkbPurworejo/status/173516...</td>\n",
       "      <td>Anies-Muhaimin</td>\n",
       "    </tr>\n",
       "    <tr>\n",
       "      <th>1</th>\n",
       "      <td>1</td>\n",
       "      <td>Thu Dec 14 04:32:00 +0000 2023</td>\n",
       "      <td>1735155653902270493</td>\n",
       "      <td>@BosPurwa Setelah melihat debat kemaren, tanpa...</td>\n",
       "      <td>0.0</td>\n",
       "      <td>0</td>\n",
       "      <td>0.0</td>\n",
       "      <td>0.0</td>\n",
       "      <td>in</td>\n",
       "      <td>1428102822130642944</td>\n",
       "      <td>1734853374695354729</td>\n",
       "      <td>BaladewaDon</td>\n",
       "      <td>https://twitter.com/BaladewaDon/status/1735155...</td>\n",
       "      <td>Anies-Muhaimin</td>\n",
       "    </tr>\n",
       "    <tr>\n",
       "      <th>2</th>\n",
       "      <td>2</td>\n",
       "      <td>Thu Dec 14 03:16:38 +0000 2023</td>\n",
       "      <td>1735136689893585208</td>\n",
       "      <td>@pemilunetwork Isi Komen banyak Anis-Muhaimin,...</td>\n",
       "      <td>0.0</td>\n",
       "      <td>0</td>\n",
       "      <td>0.0</td>\n",
       "      <td>0.0</td>\n",
       "      <td>in</td>\n",
       "      <td>219564339</td>\n",
       "      <td>1734443620344963191</td>\n",
       "      <td>sahrulmartenank</td>\n",
       "      <td>https://twitter.com/sahrulmartenank/status/173...</td>\n",
       "      <td>Anies-Muhaimin</td>\n",
       "    </tr>\n",
       "    <tr>\n",
       "      <th>3</th>\n",
       "      <td>3</td>\n",
       "      <td>Thu Dec 14 03:15:17 +0000 2023</td>\n",
       "      <td>1735136350368944248</td>\n",
       "      <td>@sigitwid Telak banget ya..#AnisMuhaimin mantap</td>\n",
       "      <td>0.0</td>\n",
       "      <td>0</td>\n",
       "      <td>0.0</td>\n",
       "      <td>0.0</td>\n",
       "      <td>in</td>\n",
       "      <td>1376980848</td>\n",
       "      <td>1734594771778511305</td>\n",
       "      <td>AmLoebis</td>\n",
       "      <td>https://twitter.com/AmLoebis/status/1735136350...</td>\n",
       "      <td>Anies-Muhaimin</td>\n",
       "    </tr>\n",
       "    <tr>\n",
       "      <th>4</th>\n",
       "      <td>4</td>\n",
       "      <td>Thu Dec 14 03:13:31 +0000 2023</td>\n",
       "      <td>1735135902266175677</td>\n",
       "      <td>@sobat_anies Ampe julurin lidah ya..kayak itu ...</td>\n",
       "      <td>0.0</td>\n",
       "      <td>0</td>\n",
       "      <td>0.0</td>\n",
       "      <td>0.0</td>\n",
       "      <td>in</td>\n",
       "      <td>1376980848</td>\n",
       "      <td>1734768732235571476</td>\n",
       "      <td>AmLoebis</td>\n",
       "      <td>https://twitter.com/AmLoebis/status/1735135902...</td>\n",
       "      <td>Anies-Muhaimin</td>\n",
       "    </tr>\n",
       "  </tbody>\n",
       "</table>\n",
       "</div>"
      ],
      "text/plain": [
       "  Unnamed: 0                      created_at               id_str  \\\n",
       "0          0  Thu Dec 14 05:15:57 +0000 2023  1735166716563673457   \n",
       "1          1  Thu Dec 14 04:32:00 +0000 2023  1735155653902270493   \n",
       "2          2  Thu Dec 14 03:16:38 +0000 2023  1735136689893585208   \n",
       "3          3  Thu Dec 14 03:15:17 +0000 2023  1735136350368944248   \n",
       "4          4  Thu Dec 14 03:13:31 +0000 2023  1735135902266175677   \n",
       "\n",
       "                                           full_text  quote_count reply_count  \\\n",
       "0  Jaringan Perempuan Nahdliyin untuk ANIS MUHAIM...          0.0           0   \n",
       "1  @BosPurwa Setelah melihat debat kemaren, tanpa...          0.0           0   \n",
       "2  @pemilunetwork Isi Komen banyak Anis-Muhaimin,...          0.0           0   \n",
       "3    @sigitwid Telak banget ya..#AnisMuhaimin mantap          0.0           0   \n",
       "4  @sobat_anies Ampe julurin lidah ya..kayak itu ...          0.0           0   \n",
       "\n",
       "   retweet_count  favorite_count lang          user_id_str  \\\n",
       "0            0.0             0.0   in  1222731781444489216   \n",
       "1            0.0             0.0   in  1428102822130642944   \n",
       "2            0.0             0.0   in            219564339   \n",
       "3            0.0             0.0   in           1376980848   \n",
       "4            0.0             0.0   in           1376980848   \n",
       "\n",
       "   conversation_id_str         username  \\\n",
       "0  1735166716563673457     PkbPurworejo   \n",
       "1  1734853374695354729      BaladewaDon   \n",
       "2  1734443620344963191  sahrulmartenank   \n",
       "3  1734594771778511305         AmLoebis   \n",
       "4  1734768732235571476         AmLoebis   \n",
       "\n",
       "                                           tweet_url        Kandidat  \n",
       "0  https://twitter.com/PkbPurworejo/status/173516...  Anies-Muhaimin  \n",
       "1  https://twitter.com/BaladewaDon/status/1735155...  Anies-Muhaimin  \n",
       "2  https://twitter.com/sahrulmartenank/status/173...  Anies-Muhaimin  \n",
       "3  https://twitter.com/AmLoebis/status/1735136350...  Anies-Muhaimin  \n",
       "4  https://twitter.com/AmLoebis/status/1735135902...  Anies-Muhaimin  "
      ]
     },
     "execution_count": 3,
     "metadata": {},
     "output_type": "execute_result"
    }
   ],
   "source": [
    "df.head()"
   ]
  },
  {
   "cell_type": "code",
   "execution_count": 4,
   "id": "44710e01-23de-4dc1-9533-2ca72bd95cd0",
   "metadata": {
    "tags": []
   },
   "outputs": [
    {
     "data": {
      "text/plain": [
       "(10539, 14)"
      ]
     },
     "execution_count": 4,
     "metadata": {},
     "output_type": "execute_result"
    }
   ],
   "source": [
    "df.shape"
   ]
  },
  {
   "cell_type": "code",
   "execution_count": 5,
   "id": "1aaa1799-d434-4493-a989-d38142729023",
   "metadata": {
    "tags": []
   },
   "outputs": [
    {
     "name": "stdout",
     "output_type": "stream",
     "text": [
      "<class 'pandas.core.frame.DataFrame'>\n",
      "RangeIndex: 10539 entries, 0 to 10538\n",
      "Data columns (total 14 columns):\n",
      " #   Column               Non-Null Count  Dtype  \n",
      "---  ------               --------------  -----  \n",
      " 0   Unnamed: 0           10539 non-null  object \n",
      " 1   created_at           10539 non-null  object \n",
      " 2   id_str               10539 non-null  int64  \n",
      " 3   full_text            10539 non-null  object \n",
      " 4   quote_count          10537 non-null  float64\n",
      " 5   reply_count          10537 non-null  object \n",
      " 6   retweet_count        10537 non-null  float64\n",
      " 7   favorite_count       10537 non-null  float64\n",
      " 8   lang                 10537 non-null  object \n",
      " 9   user_id_str          10537 non-null  object \n",
      " 10  conversation_id_str  10537 non-null  object \n",
      " 11  username             10535 non-null  object \n",
      " 12  tweet_url            10535 non-null  object \n",
      " 13  Kandidat             10535 non-null  object \n",
      "dtypes: float64(3), int64(1), object(10)\n",
      "memory usage: 1.1+ MB\n"
     ]
    }
   ],
   "source": [
    "df.info()"
   ]
  },
  {
   "cell_type": "markdown",
   "id": "7c9ffc08-72fd-459a-902f-9996a3fefc84",
   "metadata": {
    "tags": []
   },
   "source": [
    "### Data Cleaning"
   ]
  },
  {
   "cell_type": "markdown",
   "id": "bc484180-1803-4fff-9c9b-f3f903835f23",
   "metadata": {},
   "source": [
    "#### Missing Values"
   ]
  },
  {
   "cell_type": "code",
   "execution_count": 6,
   "id": "07927a15-c3c5-40b3-b84a-bca4e64c1490",
   "metadata": {
    "tags": []
   },
   "outputs": [
    {
     "data": {
      "text/plain": [
       "Unnamed: 0             0\n",
       "created_at             0\n",
       "id_str                 0\n",
       "full_text              0\n",
       "quote_count            2\n",
       "reply_count            2\n",
       "retweet_count          2\n",
       "favorite_count         2\n",
       "lang                   2\n",
       "user_id_str            2\n",
       "conversation_id_str    2\n",
       "username               4\n",
       "tweet_url              4\n",
       "Kandidat               4\n",
       "dtype: int64"
      ]
     },
     "execution_count": 6,
     "metadata": {},
     "output_type": "execute_result"
    }
   ],
   "source": [
    "df.isna().sum()"
   ]
  },
  {
   "cell_type": "code",
   "execution_count": 7,
   "id": "03053659-00d9-4b16-84ab-47758e26dfca",
   "metadata": {
    "tags": []
   },
   "outputs": [],
   "source": [
    "df = df.loc[:, ~df.columns.str.contains('^Unnamed: 0')]"
   ]
  },
  {
   "cell_type": "code",
   "execution_count": 8,
   "id": "0c5cdd44-c31b-4b3a-a8a4-f192ef2db331",
   "metadata": {
    "tags": []
   },
   "outputs": [
    {
     "data": {
      "text/plain": [
       "created_at             0\n",
       "id_str                 0\n",
       "full_text              0\n",
       "quote_count            2\n",
       "reply_count            2\n",
       "retweet_count          2\n",
       "favorite_count         2\n",
       "lang                   2\n",
       "user_id_str            2\n",
       "conversation_id_str    2\n",
       "username               4\n",
       "tweet_url              4\n",
       "Kandidat               4\n",
       "dtype: int64"
      ]
     },
     "execution_count": 8,
     "metadata": {},
     "output_type": "execute_result"
    }
   ],
   "source": [
    "df.isna().sum()"
   ]
  },
  {
   "cell_type": "code",
   "execution_count": 9,
   "id": "25b17cbb-52be-41c7-bdba-50ffa1c46f9f",
   "metadata": {
    "tags": []
   },
   "outputs": [],
   "source": [
    "df = df.dropna()"
   ]
  },
  {
   "cell_type": "code",
   "execution_count": 10,
   "id": "f8bf614c-0f26-4ce6-ac60-de122be3adc8",
   "metadata": {
    "tags": []
   },
   "outputs": [
    {
     "data": {
      "text/plain": [
       "created_at             0\n",
       "id_str                 0\n",
       "full_text              0\n",
       "quote_count            0\n",
       "reply_count            0\n",
       "retweet_count          0\n",
       "favorite_count         0\n",
       "lang                   0\n",
       "user_id_str            0\n",
       "conversation_id_str    0\n",
       "username               0\n",
       "tweet_url              0\n",
       "Kandidat               0\n",
       "dtype: int64"
      ]
     },
     "execution_count": 10,
     "metadata": {},
     "output_type": "execute_result"
    }
   ],
   "source": [
    "df.isna().sum()"
   ]
  },
  {
   "cell_type": "markdown",
   "id": "72f9956c-5947-4b52-9ec1-eb41f561d2ac",
   "metadata": {},
   "source": [
    "#### Duplicated"
   ]
  },
  {
   "cell_type": "code",
   "execution_count": 11,
   "id": "eaa88b13-237e-4d7b-81ea-1cabee02ccc7",
   "metadata": {
    "tags": []
   },
   "outputs": [
    {
     "data": {
      "text/plain": [
       "147"
      ]
     },
     "execution_count": 11,
     "metadata": {},
     "output_type": "execute_result"
    }
   ],
   "source": [
    "df.duplicated().sum()"
   ]
  },
  {
   "cell_type": "code",
   "execution_count": 12,
   "id": "577dbfa8-be8c-44e4-86a2-c64ec97b4cde",
   "metadata": {
    "tags": []
   },
   "outputs": [],
   "source": [
    "df = df.drop_duplicates()"
   ]
  },
  {
   "cell_type": "code",
   "execution_count": 13,
   "id": "4ed69a95-36c3-4e1d-b7d9-5ffb78f0e77f",
   "metadata": {
    "tags": []
   },
   "outputs": [
    {
     "data": {
      "text/plain": [
       "0"
      ]
     },
     "execution_count": 13,
     "metadata": {},
     "output_type": "execute_result"
    }
   ],
   "source": [
    "df.duplicated().sum()"
   ]
  },
  {
   "cell_type": "code",
   "execution_count": 14,
   "id": "675ba1da-8d30-41b3-9799-acd0193fa5ad",
   "metadata": {
    "tags": []
   },
   "outputs": [
    {
     "data": {
      "text/plain": [
       "(10388, 13)"
      ]
     },
     "execution_count": 14,
     "metadata": {},
     "output_type": "execute_result"
    }
   ],
   "source": [
    "df.shape"
   ]
  },
  {
   "cell_type": "code",
   "execution_count": 15,
   "id": "3fa9d863-3ff1-4336-8c0a-56be06dd3848",
   "metadata": {
    "tags": []
   },
   "outputs": [],
   "source": [
    "df = df[~df['full_text'].str.contains(\"Jokowi-Ma'ruf Amin\")]"
   ]
  },
  {
   "cell_type": "code",
   "execution_count": 16,
   "id": "fbfd524c-a657-48cd-be89-8f61fc859e74",
   "metadata": {
    "tags": []
   },
   "outputs": [
    {
     "data": {
      "text/plain": [
       "(10379, 13)"
      ]
     },
     "execution_count": 16,
     "metadata": {},
     "output_type": "execute_result"
    }
   ],
   "source": [
    "df.shape"
   ]
  },
  {
   "cell_type": "code",
   "execution_count": 17,
   "id": "e6927c85-9103-47ac-97ff-ed5a3164b310",
   "metadata": {
    "tags": []
   },
   "outputs": [
    {
     "data": {
      "text/html": [
       "<div>\n",
       "<style scoped>\n",
       "    .dataframe tbody tr th:only-of-type {\n",
       "        vertical-align: middle;\n",
       "    }\n",
       "\n",
       "    .dataframe tbody tr th {\n",
       "        vertical-align: top;\n",
       "    }\n",
       "\n",
       "    .dataframe thead th {\n",
       "        text-align: right;\n",
       "    }\n",
       "</style>\n",
       "<table border=\"1\" class=\"dataframe\">\n",
       "  <thead>\n",
       "    <tr style=\"text-align: right;\">\n",
       "      <th></th>\n",
       "      <th>created_at</th>\n",
       "      <th>id_str</th>\n",
       "      <th>full_text</th>\n",
       "      <th>quote_count</th>\n",
       "      <th>reply_count</th>\n",
       "      <th>retweet_count</th>\n",
       "      <th>favorite_count</th>\n",
       "      <th>lang</th>\n",
       "      <th>user_id_str</th>\n",
       "      <th>conversation_id_str</th>\n",
       "      <th>username</th>\n",
       "      <th>tweet_url</th>\n",
       "      <th>Kandidat</th>\n",
       "    </tr>\n",
       "  </thead>\n",
       "  <tbody>\n",
       "    <tr>\n",
       "      <th>0</th>\n",
       "      <td>Thu Dec 14 05:15:57 +0000 2023</td>\n",
       "      <td>1735166716563673457</td>\n",
       "      <td>Jaringan Perempuan Nahdliyin untuk ANIS MUHAIM...</td>\n",
       "      <td>0.0</td>\n",
       "      <td>0</td>\n",
       "      <td>0.0</td>\n",
       "      <td>0.0</td>\n",
       "      <td>in</td>\n",
       "      <td>1222731781444489216</td>\n",
       "      <td>1735166716563673457</td>\n",
       "      <td>PkbPurworejo</td>\n",
       "      <td>https://twitter.com/PkbPurworejo/status/173516...</td>\n",
       "      <td>Anies-Muhaimin</td>\n",
       "    </tr>\n",
       "    <tr>\n",
       "      <th>1</th>\n",
       "      <td>Thu Dec 14 04:32:00 +0000 2023</td>\n",
       "      <td>1735155653902270493</td>\n",
       "      <td>@BosPurwa Setelah melihat debat kemaren, tanpa...</td>\n",
       "      <td>0.0</td>\n",
       "      <td>0</td>\n",
       "      <td>0.0</td>\n",
       "      <td>0.0</td>\n",
       "      <td>in</td>\n",
       "      <td>1428102822130642944</td>\n",
       "      <td>1734853374695354729</td>\n",
       "      <td>BaladewaDon</td>\n",
       "      <td>https://twitter.com/BaladewaDon/status/1735155...</td>\n",
       "      <td>Anies-Muhaimin</td>\n",
       "    </tr>\n",
       "    <tr>\n",
       "      <th>2</th>\n",
       "      <td>Thu Dec 14 03:16:38 +0000 2023</td>\n",
       "      <td>1735136689893585208</td>\n",
       "      <td>@pemilunetwork Isi Komen banyak Anis-Muhaimin,...</td>\n",
       "      <td>0.0</td>\n",
       "      <td>0</td>\n",
       "      <td>0.0</td>\n",
       "      <td>0.0</td>\n",
       "      <td>in</td>\n",
       "      <td>219564339</td>\n",
       "      <td>1734443620344963191</td>\n",
       "      <td>sahrulmartenank</td>\n",
       "      <td>https://twitter.com/sahrulmartenank/status/173...</td>\n",
       "      <td>Anies-Muhaimin</td>\n",
       "    </tr>\n",
       "    <tr>\n",
       "      <th>3</th>\n",
       "      <td>Thu Dec 14 03:15:17 +0000 2023</td>\n",
       "      <td>1735136350368944248</td>\n",
       "      <td>@sigitwid Telak banget ya..#AnisMuhaimin mantap</td>\n",
       "      <td>0.0</td>\n",
       "      <td>0</td>\n",
       "      <td>0.0</td>\n",
       "      <td>0.0</td>\n",
       "      <td>in</td>\n",
       "      <td>1376980848</td>\n",
       "      <td>1734594771778511305</td>\n",
       "      <td>AmLoebis</td>\n",
       "      <td>https://twitter.com/AmLoebis/status/1735136350...</td>\n",
       "      <td>Anies-Muhaimin</td>\n",
       "    </tr>\n",
       "    <tr>\n",
       "      <th>4</th>\n",
       "      <td>Thu Dec 14 03:13:31 +0000 2023</td>\n",
       "      <td>1735135902266175677</td>\n",
       "      <td>@sobat_anies Ampe julurin lidah ya..kayak itu ...</td>\n",
       "      <td>0.0</td>\n",
       "      <td>0</td>\n",
       "      <td>0.0</td>\n",
       "      <td>0.0</td>\n",
       "      <td>in</td>\n",
       "      <td>1376980848</td>\n",
       "      <td>1734768732235571476</td>\n",
       "      <td>AmLoebis</td>\n",
       "      <td>https://twitter.com/AmLoebis/status/1735135902...</td>\n",
       "      <td>Anies-Muhaimin</td>\n",
       "    </tr>\n",
       "  </tbody>\n",
       "</table>\n",
       "</div>"
      ],
      "text/plain": [
       "                       created_at               id_str  \\\n",
       "0  Thu Dec 14 05:15:57 +0000 2023  1735166716563673457   \n",
       "1  Thu Dec 14 04:32:00 +0000 2023  1735155653902270493   \n",
       "2  Thu Dec 14 03:16:38 +0000 2023  1735136689893585208   \n",
       "3  Thu Dec 14 03:15:17 +0000 2023  1735136350368944248   \n",
       "4  Thu Dec 14 03:13:31 +0000 2023  1735135902266175677   \n",
       "\n",
       "                                           full_text  quote_count reply_count  \\\n",
       "0  Jaringan Perempuan Nahdliyin untuk ANIS MUHAIM...          0.0           0   \n",
       "1  @BosPurwa Setelah melihat debat kemaren, tanpa...          0.0           0   \n",
       "2  @pemilunetwork Isi Komen banyak Anis-Muhaimin,...          0.0           0   \n",
       "3    @sigitwid Telak banget ya..#AnisMuhaimin mantap          0.0           0   \n",
       "4  @sobat_anies Ampe julurin lidah ya..kayak itu ...          0.0           0   \n",
       "\n",
       "   retweet_count  favorite_count lang          user_id_str  \\\n",
       "0            0.0             0.0   in  1222731781444489216   \n",
       "1            0.0             0.0   in  1428102822130642944   \n",
       "2            0.0             0.0   in            219564339   \n",
       "3            0.0             0.0   in           1376980848   \n",
       "4            0.0             0.0   in           1376980848   \n",
       "\n",
       "   conversation_id_str         username  \\\n",
       "0  1735166716563673457     PkbPurworejo   \n",
       "1  1734853374695354729      BaladewaDon   \n",
       "2  1734443620344963191  sahrulmartenank   \n",
       "3  1734594771778511305         AmLoebis   \n",
       "4  1734768732235571476         AmLoebis   \n",
       "\n",
       "                                           tweet_url        Kandidat  \n",
       "0  https://twitter.com/PkbPurworejo/status/173516...  Anies-Muhaimin  \n",
       "1  https://twitter.com/BaladewaDon/status/1735155...  Anies-Muhaimin  \n",
       "2  https://twitter.com/sahrulmartenank/status/173...  Anies-Muhaimin  \n",
       "3  https://twitter.com/AmLoebis/status/1735136350...  Anies-Muhaimin  \n",
       "4  https://twitter.com/AmLoebis/status/1735135902...  Anies-Muhaimin  "
      ]
     },
     "execution_count": 17,
     "metadata": {},
     "output_type": "execute_result"
    }
   ],
   "source": [
    "df.head()"
   ]
  },
  {
   "cell_type": "markdown",
   "id": "da67631e-1fca-42f0-81bb-79a2f64053be",
   "metadata": {
    "tags": []
   },
   "source": [
    "#### Menghapus @"
   ]
  },
  {
   "cell_type": "code",
   "execution_count": 18,
   "id": "6b0ea499-7feb-4349-a044-0572fd27b4dd",
   "metadata": {
    "tags": []
   },
   "outputs": [],
   "source": [
    "import re\n",
    "df['full_text'] = df['full_text'].apply(lambda x: ' '.join(re.sub(\"(@[A-Za-z0-9]+)|([^0-9A-Za-z \\t])|(\\w+:\\/\\/\\S+)\", \" \", x).split()))"
   ]
  },
  {
   "cell_type": "code",
   "execution_count": 19,
   "id": "d34fffe7-f02a-4946-a1d6-f8e3d286c08a",
   "metadata": {
    "tags": []
   },
   "outputs": [
    {
     "data": {
      "text/html": [
       "<div>\n",
       "<style scoped>\n",
       "    .dataframe tbody tr th:only-of-type {\n",
       "        vertical-align: middle;\n",
       "    }\n",
       "\n",
       "    .dataframe tbody tr th {\n",
       "        vertical-align: top;\n",
       "    }\n",
       "\n",
       "    .dataframe thead th {\n",
       "        text-align: right;\n",
       "    }\n",
       "</style>\n",
       "<table border=\"1\" class=\"dataframe\">\n",
       "  <thead>\n",
       "    <tr style=\"text-align: right;\">\n",
       "      <th></th>\n",
       "      <th>created_at</th>\n",
       "      <th>id_str</th>\n",
       "      <th>full_text</th>\n",
       "      <th>quote_count</th>\n",
       "      <th>reply_count</th>\n",
       "      <th>retweet_count</th>\n",
       "      <th>favorite_count</th>\n",
       "      <th>lang</th>\n",
       "      <th>user_id_str</th>\n",
       "      <th>conversation_id_str</th>\n",
       "      <th>username</th>\n",
       "      <th>tweet_url</th>\n",
       "      <th>Kandidat</th>\n",
       "    </tr>\n",
       "  </thead>\n",
       "  <tbody>\n",
       "    <tr>\n",
       "      <th>0</th>\n",
       "      <td>Thu Dec 14 05:15:57 +0000 2023</td>\n",
       "      <td>1735166716563673457</td>\n",
       "      <td>Jaringan Perempuan Nahdliyin untuk ANIS MUHAIM...</td>\n",
       "      <td>0.0</td>\n",
       "      <td>0</td>\n",
       "      <td>0.0</td>\n",
       "      <td>0.0</td>\n",
       "      <td>in</td>\n",
       "      <td>1222731781444489216</td>\n",
       "      <td>1735166716563673457</td>\n",
       "      <td>PkbPurworejo</td>\n",
       "      <td>https://twitter.com/PkbPurworejo/status/173516...</td>\n",
       "      <td>Anies-Muhaimin</td>\n",
       "    </tr>\n",
       "    <tr>\n",
       "      <th>1</th>\n",
       "      <td>Thu Dec 14 04:32:00 +0000 2023</td>\n",
       "      <td>1735155653902270493</td>\n",
       "      <td>Setelah melihat debat kemaren tanpa pikir panj...</td>\n",
       "      <td>0.0</td>\n",
       "      <td>0</td>\n",
       "      <td>0.0</td>\n",
       "      <td>0.0</td>\n",
       "      <td>in</td>\n",
       "      <td>1428102822130642944</td>\n",
       "      <td>1734853374695354729</td>\n",
       "      <td>BaladewaDon</td>\n",
       "      <td>https://twitter.com/BaladewaDon/status/1735155...</td>\n",
       "      <td>Anies-Muhaimin</td>\n",
       "    </tr>\n",
       "    <tr>\n",
       "      <th>2</th>\n",
       "      <td>Thu Dec 14 03:16:38 +0000 2023</td>\n",
       "      <td>1735136689893585208</td>\n",
       "      <td>Isi Komen banyak Anis Muhaimin AMIN menang</td>\n",
       "      <td>0.0</td>\n",
       "      <td>0</td>\n",
       "      <td>0.0</td>\n",
       "      <td>0.0</td>\n",
       "      <td>in</td>\n",
       "      <td>219564339</td>\n",
       "      <td>1734443620344963191</td>\n",
       "      <td>sahrulmartenank</td>\n",
       "      <td>https://twitter.com/sahrulmartenank/status/173...</td>\n",
       "      <td>Anies-Muhaimin</td>\n",
       "    </tr>\n",
       "    <tr>\n",
       "      <th>3</th>\n",
       "      <td>Thu Dec 14 03:15:17 +0000 2023</td>\n",
       "      <td>1735136350368944248</td>\n",
       "      <td>Telak banget ya AnisMuhaimin mantap</td>\n",
       "      <td>0.0</td>\n",
       "      <td>0</td>\n",
       "      <td>0.0</td>\n",
       "      <td>0.0</td>\n",
       "      <td>in</td>\n",
       "      <td>1376980848</td>\n",
       "      <td>1734594771778511305</td>\n",
       "      <td>AmLoebis</td>\n",
       "      <td>https://twitter.com/AmLoebis/status/1735136350...</td>\n",
       "      <td>Anies-Muhaimin</td>\n",
       "    </tr>\n",
       "    <tr>\n",
       "      <th>4</th>\n",
       "      <td>Thu Dec 14 03:13:31 +0000 2023</td>\n",
       "      <td>1735135902266175677</td>\n",
       "      <td>anies Ampe julurin lidah ya kayak itu tu AnisM...</td>\n",
       "      <td>0.0</td>\n",
       "      <td>0</td>\n",
       "      <td>0.0</td>\n",
       "      <td>0.0</td>\n",
       "      <td>in</td>\n",
       "      <td>1376980848</td>\n",
       "      <td>1734768732235571476</td>\n",
       "      <td>AmLoebis</td>\n",
       "      <td>https://twitter.com/AmLoebis/status/1735135902...</td>\n",
       "      <td>Anies-Muhaimin</td>\n",
       "    </tr>\n",
       "  </tbody>\n",
       "</table>\n",
       "</div>"
      ],
      "text/plain": [
       "                       created_at               id_str  \\\n",
       "0  Thu Dec 14 05:15:57 +0000 2023  1735166716563673457   \n",
       "1  Thu Dec 14 04:32:00 +0000 2023  1735155653902270493   \n",
       "2  Thu Dec 14 03:16:38 +0000 2023  1735136689893585208   \n",
       "3  Thu Dec 14 03:15:17 +0000 2023  1735136350368944248   \n",
       "4  Thu Dec 14 03:13:31 +0000 2023  1735135902266175677   \n",
       "\n",
       "                                           full_text  quote_count reply_count  \\\n",
       "0  Jaringan Perempuan Nahdliyin untuk ANIS MUHAIM...          0.0           0   \n",
       "1  Setelah melihat debat kemaren tanpa pikir panj...          0.0           0   \n",
       "2         Isi Komen banyak Anis Muhaimin AMIN menang          0.0           0   \n",
       "3                Telak banget ya AnisMuhaimin mantap          0.0           0   \n",
       "4  anies Ampe julurin lidah ya kayak itu tu AnisM...          0.0           0   \n",
       "\n",
       "   retweet_count  favorite_count lang          user_id_str  \\\n",
       "0            0.0             0.0   in  1222731781444489216   \n",
       "1            0.0             0.0   in  1428102822130642944   \n",
       "2            0.0             0.0   in            219564339   \n",
       "3            0.0             0.0   in           1376980848   \n",
       "4            0.0             0.0   in           1376980848   \n",
       "\n",
       "   conversation_id_str         username  \\\n",
       "0  1735166716563673457     PkbPurworejo   \n",
       "1  1734853374695354729      BaladewaDon   \n",
       "2  1734443620344963191  sahrulmartenank   \n",
       "3  1734594771778511305         AmLoebis   \n",
       "4  1734768732235571476         AmLoebis   \n",
       "\n",
       "                                           tweet_url        Kandidat  \n",
       "0  https://twitter.com/PkbPurworejo/status/173516...  Anies-Muhaimin  \n",
       "1  https://twitter.com/BaladewaDon/status/1735155...  Anies-Muhaimin  \n",
       "2  https://twitter.com/sahrulmartenank/status/173...  Anies-Muhaimin  \n",
       "3  https://twitter.com/AmLoebis/status/1735136350...  Anies-Muhaimin  \n",
       "4  https://twitter.com/AmLoebis/status/1735135902...  Anies-Muhaimin  "
      ]
     },
     "execution_count": 19,
     "metadata": {},
     "output_type": "execute_result"
    }
   ],
   "source": [
    "df.head()"
   ]
  },
  {
   "cell_type": "markdown",
   "id": "e3ab82c7-b14d-4c80-807c-f6a4492d8d47",
   "metadata": {},
   "source": [
    "#### Menghapus Kolom Created_at, Lang, User_id_str dan Conversation_id_str"
   ]
  },
  {
   "cell_type": "markdown",
   "id": "e90fa650-b158-4096-b03e-d43fb4bc5340",
   "metadata": {},
   "source": [
    "- Pengahapusan kolom/feature dilakukan karena kolom-kolom tersebut tidak diperlukan dalam analisa sentiment ini."
   ]
  },
  {
   "cell_type": "code",
   "execution_count": 20,
   "id": "69743c5c-a18a-4ae9-a060-5e5d59dfd805",
   "metadata": {
    "tags": []
   },
   "outputs": [],
   "source": [
    "kolom_hapus = ['id_str', 'lang', 'user_id_str', 'conversation_id_str']"
   ]
  },
  {
   "cell_type": "code",
   "execution_count": 21,
   "id": "8125f9b1-e509-4644-a3f5-4161df959b39",
   "metadata": {
    "tags": []
   },
   "outputs": [],
   "source": [
    "df = df.drop(columns=kolom_hapus)"
   ]
  },
  {
   "cell_type": "code",
   "execution_count": 22,
   "id": "d98078ea-e9b6-48b9-b2ae-0f74db690b58",
   "metadata": {
    "tags": []
   },
   "outputs": [
    {
     "data": {
      "text/html": [
       "<div>\n",
       "<style scoped>\n",
       "    .dataframe tbody tr th:only-of-type {\n",
       "        vertical-align: middle;\n",
       "    }\n",
       "\n",
       "    .dataframe tbody tr th {\n",
       "        vertical-align: top;\n",
       "    }\n",
       "\n",
       "    .dataframe thead th {\n",
       "        text-align: right;\n",
       "    }\n",
       "</style>\n",
       "<table border=\"1\" class=\"dataframe\">\n",
       "  <thead>\n",
       "    <tr style=\"text-align: right;\">\n",
       "      <th></th>\n",
       "      <th>created_at</th>\n",
       "      <th>full_text</th>\n",
       "      <th>quote_count</th>\n",
       "      <th>reply_count</th>\n",
       "      <th>retweet_count</th>\n",
       "      <th>favorite_count</th>\n",
       "      <th>username</th>\n",
       "      <th>tweet_url</th>\n",
       "      <th>Kandidat</th>\n",
       "    </tr>\n",
       "  </thead>\n",
       "  <tbody>\n",
       "    <tr>\n",
       "      <th>0</th>\n",
       "      <td>Thu Dec 14 05:15:57 +0000 2023</td>\n",
       "      <td>Jaringan Perempuan Nahdliyin untuk ANIS MUHAIM...</td>\n",
       "      <td>0.0</td>\n",
       "      <td>0</td>\n",
       "      <td>0.0</td>\n",
       "      <td>0.0</td>\n",
       "      <td>PkbPurworejo</td>\n",
       "      <td>https://twitter.com/PkbPurworejo/status/173516...</td>\n",
       "      <td>Anies-Muhaimin</td>\n",
       "    </tr>\n",
       "    <tr>\n",
       "      <th>1</th>\n",
       "      <td>Thu Dec 14 04:32:00 +0000 2023</td>\n",
       "      <td>Setelah melihat debat kemaren tanpa pikir panj...</td>\n",
       "      <td>0.0</td>\n",
       "      <td>0</td>\n",
       "      <td>0.0</td>\n",
       "      <td>0.0</td>\n",
       "      <td>BaladewaDon</td>\n",
       "      <td>https://twitter.com/BaladewaDon/status/1735155...</td>\n",
       "      <td>Anies-Muhaimin</td>\n",
       "    </tr>\n",
       "    <tr>\n",
       "      <th>2</th>\n",
       "      <td>Thu Dec 14 03:16:38 +0000 2023</td>\n",
       "      <td>Isi Komen banyak Anis Muhaimin AMIN menang</td>\n",
       "      <td>0.0</td>\n",
       "      <td>0</td>\n",
       "      <td>0.0</td>\n",
       "      <td>0.0</td>\n",
       "      <td>sahrulmartenank</td>\n",
       "      <td>https://twitter.com/sahrulmartenank/status/173...</td>\n",
       "      <td>Anies-Muhaimin</td>\n",
       "    </tr>\n",
       "    <tr>\n",
       "      <th>3</th>\n",
       "      <td>Thu Dec 14 03:15:17 +0000 2023</td>\n",
       "      <td>Telak banget ya AnisMuhaimin mantap</td>\n",
       "      <td>0.0</td>\n",
       "      <td>0</td>\n",
       "      <td>0.0</td>\n",
       "      <td>0.0</td>\n",
       "      <td>AmLoebis</td>\n",
       "      <td>https://twitter.com/AmLoebis/status/1735136350...</td>\n",
       "      <td>Anies-Muhaimin</td>\n",
       "    </tr>\n",
       "    <tr>\n",
       "      <th>4</th>\n",
       "      <td>Thu Dec 14 03:13:31 +0000 2023</td>\n",
       "      <td>anies Ampe julurin lidah ya kayak itu tu AnisM...</td>\n",
       "      <td>0.0</td>\n",
       "      <td>0</td>\n",
       "      <td>0.0</td>\n",
       "      <td>0.0</td>\n",
       "      <td>AmLoebis</td>\n",
       "      <td>https://twitter.com/AmLoebis/status/1735135902...</td>\n",
       "      <td>Anies-Muhaimin</td>\n",
       "    </tr>\n",
       "  </tbody>\n",
       "</table>\n",
       "</div>"
      ],
      "text/plain": [
       "                       created_at  \\\n",
       "0  Thu Dec 14 05:15:57 +0000 2023   \n",
       "1  Thu Dec 14 04:32:00 +0000 2023   \n",
       "2  Thu Dec 14 03:16:38 +0000 2023   \n",
       "3  Thu Dec 14 03:15:17 +0000 2023   \n",
       "4  Thu Dec 14 03:13:31 +0000 2023   \n",
       "\n",
       "                                           full_text  quote_count reply_count  \\\n",
       "0  Jaringan Perempuan Nahdliyin untuk ANIS MUHAIM...          0.0           0   \n",
       "1  Setelah melihat debat kemaren tanpa pikir panj...          0.0           0   \n",
       "2         Isi Komen banyak Anis Muhaimin AMIN menang          0.0           0   \n",
       "3                Telak banget ya AnisMuhaimin mantap          0.0           0   \n",
       "4  anies Ampe julurin lidah ya kayak itu tu AnisM...          0.0           0   \n",
       "\n",
       "   retweet_count  favorite_count         username  \\\n",
       "0            0.0             0.0     PkbPurworejo   \n",
       "1            0.0             0.0      BaladewaDon   \n",
       "2            0.0             0.0  sahrulmartenank   \n",
       "3            0.0             0.0         AmLoebis   \n",
       "4            0.0             0.0         AmLoebis   \n",
       "\n",
       "                                           tweet_url        Kandidat  \n",
       "0  https://twitter.com/PkbPurworejo/status/173516...  Anies-Muhaimin  \n",
       "1  https://twitter.com/BaladewaDon/status/1735155...  Anies-Muhaimin  \n",
       "2  https://twitter.com/sahrulmartenank/status/173...  Anies-Muhaimin  \n",
       "3  https://twitter.com/AmLoebis/status/1735136350...  Anies-Muhaimin  \n",
       "4  https://twitter.com/AmLoebis/status/1735135902...  Anies-Muhaimin  "
      ]
     },
     "execution_count": 22,
     "metadata": {},
     "output_type": "execute_result"
    }
   ],
   "source": [
    "df.head()"
   ]
  },
  {
   "cell_type": "code",
   "execution_count": 23,
   "id": "d5a1acf4-1280-40d0-9e3f-6bc0453ea409",
   "metadata": {
    "tags": []
   },
   "outputs": [
    {
     "data": {
      "text/plain": [
       "(10379, 9)"
      ]
     },
     "execution_count": 23,
     "metadata": {},
     "output_type": "execute_result"
    }
   ],
   "source": [
    "df.shape"
   ]
  },
  {
   "cell_type": "code",
   "execution_count": 24,
   "id": "cb7b887c-1b4a-44c6-8a50-3f834c050de0",
   "metadata": {
    "tags": []
   },
   "outputs": [],
   "source": [
    "df.to_csv('tweet_bersih.csv')"
   ]
  },
  {
   "cell_type": "markdown",
   "id": "49257e74-2d5b-42d4-9382-21e431d456d3",
   "metadata": {
    "tags": []
   },
   "source": [
    "### Sentiment Classification Using Textblob"
   ]
  },
  {
   "cell_type": "code",
   "execution_count": 24,
   "id": "8658d2ad-cc00-4d68-b30f-2a4e8071d6d5",
   "metadata": {
    "tags": []
   },
   "outputs": [],
   "source": [
    "from textblob import TextBlob\n",
    "from googletrans import Translator"
   ]
  },
  {
   "cell_type": "markdown",
   "id": "0fe4e16c-4a10-455c-92ea-ae11d14e94da",
   "metadata": {
    "tags": []
   },
   "source": [
    "- Translate tweets ke Bahasa Inggris"
   ]
  },
  {
   "cell_type": "code",
   "execution_count": 25,
   "id": "0c0fe56d-94f2-48d2-9f40-97d39d9ddb85",
   "metadata": {
    "tags": []
   },
   "outputs": [],
   "source": [
    "from googletrans import Translator\n",
    "\n",
    "translator = Translator()\n",
    "\n",
    "df['label'] = df['full_text'].str.encode('ascii', 'ignore').apply(lambda x: translator.translate(x.decode('utf-8'), dest='en').text)"
   ]
  },
  {
   "cell_type": "code",
   "execution_count": 26,
   "id": "29504fc6-a1be-4753-8401-0feee406ad7d",
   "metadata": {
    "tags": []
   },
   "outputs": [
    {
     "data": {
      "text/html": [
       "<div>\n",
       "<style scoped>\n",
       "    .dataframe tbody tr th:only-of-type {\n",
       "        vertical-align: middle;\n",
       "    }\n",
       "\n",
       "    .dataframe tbody tr th {\n",
       "        vertical-align: top;\n",
       "    }\n",
       "\n",
       "    .dataframe thead th {\n",
       "        text-align: right;\n",
       "    }\n",
       "</style>\n",
       "<table border=\"1\" class=\"dataframe\">\n",
       "  <thead>\n",
       "    <tr style=\"text-align: right;\">\n",
       "      <th></th>\n",
       "      <th>created_at</th>\n",
       "      <th>full_text</th>\n",
       "      <th>quote_count</th>\n",
       "      <th>reply_count</th>\n",
       "      <th>retweet_count</th>\n",
       "      <th>favorite_count</th>\n",
       "      <th>username</th>\n",
       "      <th>tweet_url</th>\n",
       "      <th>Kandidat</th>\n",
       "      <th>label</th>\n",
       "    </tr>\n",
       "  </thead>\n",
       "  <tbody>\n",
       "    <tr>\n",
       "      <th>0</th>\n",
       "      <td>Thu Dec 14 05:15:57 +0000 2023</td>\n",
       "      <td>Jaringan Perempuan Nahdliyin untuk ANIS MUHAIM...</td>\n",
       "      <td>0.0</td>\n",
       "      <td>0</td>\n",
       "      <td>0.0</td>\n",
       "      <td>0.0</td>\n",
       "      <td>PkbPurworejo</td>\n",
       "      <td>https://twitter.com/PkbPurworejo/status/173516...</td>\n",
       "      <td>Anies-Muhaimin</td>\n",
       "      <td>Nahdliyin Women's Network for ANIS MUHAIMIN To...</td>\n",
       "    </tr>\n",
       "    <tr>\n",
       "      <th>1</th>\n",
       "      <td>Thu Dec 14 04:32:00 +0000 2023</td>\n",
       "      <td>Setelah melihat debat kemaren tanpa pikir panj...</td>\n",
       "      <td>0.0</td>\n",
       "      <td>0</td>\n",
       "      <td>0.0</td>\n",
       "      <td>0.0</td>\n",
       "      <td>BaladewaDon</td>\n",
       "      <td>https://twitter.com/BaladewaDon/status/1735155...</td>\n",
       "      <td>Anies-Muhaimin</td>\n",
       "      <td>After seeing yesterday's debate, without think...</td>\n",
       "    </tr>\n",
       "    <tr>\n",
       "      <th>2</th>\n",
       "      <td>Thu Dec 14 03:16:38 +0000 2023</td>\n",
       "      <td>Isi Komen banyak Anis Muhaimin AMIN menang</td>\n",
       "      <td>0.0</td>\n",
       "      <td>0</td>\n",
       "      <td>0.0</td>\n",
       "      <td>0.0</td>\n",
       "      <td>sahrulmartenank</td>\n",
       "      <td>https://twitter.com/sahrulmartenank/status/173...</td>\n",
       "      <td>Anies-Muhaimin</td>\n",
       "      <td>Fill in the comments many Anis Muhaimin AMIN win</td>\n",
       "    </tr>\n",
       "    <tr>\n",
       "      <th>3</th>\n",
       "      <td>Thu Dec 14 03:15:17 +0000 2023</td>\n",
       "      <td>Telak banget ya AnisMuhaimin mantap</td>\n",
       "      <td>0.0</td>\n",
       "      <td>0</td>\n",
       "      <td>0.0</td>\n",
       "      <td>0.0</td>\n",
       "      <td>AmLoebis</td>\n",
       "      <td>https://twitter.com/AmLoebis/status/1735136350...</td>\n",
       "      <td>Anies-Muhaimin</td>\n",
       "      <td>That's really great, Anis Muhaimin</td>\n",
       "    </tr>\n",
       "    <tr>\n",
       "      <th>4</th>\n",
       "      <td>Thu Dec 14 03:13:31 +0000 2023</td>\n",
       "      <td>anies Ampe julurin lidah ya kayak itu tu AnisM...</td>\n",
       "      <td>0.0</td>\n",
       "      <td>0</td>\n",
       "      <td>0.0</td>\n",
       "      <td>0.0</td>\n",
       "      <td>AmLoebis</td>\n",
       "      <td>https://twitter.com/AmLoebis/status/1735135902...</td>\n",
       "      <td>Anies-Muhaimin</td>\n",
       "      <td>Anies Ampe stick out your tongue like that, An...</td>\n",
       "    </tr>\n",
       "  </tbody>\n",
       "</table>\n",
       "</div>"
      ],
      "text/plain": [
       "                       created_at  \\\n",
       "0  Thu Dec 14 05:15:57 +0000 2023   \n",
       "1  Thu Dec 14 04:32:00 +0000 2023   \n",
       "2  Thu Dec 14 03:16:38 +0000 2023   \n",
       "3  Thu Dec 14 03:15:17 +0000 2023   \n",
       "4  Thu Dec 14 03:13:31 +0000 2023   \n",
       "\n",
       "                                           full_text  quote_count reply_count  \\\n",
       "0  Jaringan Perempuan Nahdliyin untuk ANIS MUHAIM...          0.0           0   \n",
       "1  Setelah melihat debat kemaren tanpa pikir panj...          0.0           0   \n",
       "2         Isi Komen banyak Anis Muhaimin AMIN menang          0.0           0   \n",
       "3                Telak banget ya AnisMuhaimin mantap          0.0           0   \n",
       "4  anies Ampe julurin lidah ya kayak itu tu AnisM...          0.0           0   \n",
       "\n",
       "   retweet_count  favorite_count         username  \\\n",
       "0            0.0             0.0     PkbPurworejo   \n",
       "1            0.0             0.0      BaladewaDon   \n",
       "2            0.0             0.0  sahrulmartenank   \n",
       "3            0.0             0.0         AmLoebis   \n",
       "4            0.0             0.0         AmLoebis   \n",
       "\n",
       "                                           tweet_url        Kandidat  \\\n",
       "0  https://twitter.com/PkbPurworejo/status/173516...  Anies-Muhaimin   \n",
       "1  https://twitter.com/BaladewaDon/status/1735155...  Anies-Muhaimin   \n",
       "2  https://twitter.com/sahrulmartenank/status/173...  Anies-Muhaimin   \n",
       "3  https://twitter.com/AmLoebis/status/1735136350...  Anies-Muhaimin   \n",
       "4  https://twitter.com/AmLoebis/status/1735135902...  Anies-Muhaimin   \n",
       "\n",
       "                                               label  \n",
       "0  Nahdliyin Women's Network for ANIS MUHAIMIN To...  \n",
       "1  After seeing yesterday's debate, without think...  \n",
       "2   Fill in the comments many Anis Muhaimin AMIN win  \n",
       "3                 That's really great, Anis Muhaimin  \n",
       "4  Anies Ampe stick out your tongue like that, An...  "
      ]
     },
     "execution_count": 26,
     "metadata": {},
     "output_type": "execute_result"
    }
   ],
   "source": [
    "df.head()"
   ]
  },
  {
   "cell_type": "code",
   "execution_count": 27,
   "id": "823b37bc-1570-4424-bdd7-edb09c5e1265",
   "metadata": {
    "tags": []
   },
   "outputs": [],
   "source": [
    "df.rename(columns={\"label\": \"tweets\"}, inplace=True)"
   ]
  },
  {
   "cell_type": "code",
   "execution_count": 28,
   "id": "c55d04c9-943a-4c25-9a25-3f191bc997a1",
   "metadata": {
    "tags": []
   },
   "outputs": [
    {
     "data": {
      "text/html": [
       "<div>\n",
       "<style scoped>\n",
       "    .dataframe tbody tr th:only-of-type {\n",
       "        vertical-align: middle;\n",
       "    }\n",
       "\n",
       "    .dataframe tbody tr th {\n",
       "        vertical-align: top;\n",
       "    }\n",
       "\n",
       "    .dataframe thead th {\n",
       "        text-align: right;\n",
       "    }\n",
       "</style>\n",
       "<table border=\"1\" class=\"dataframe\">\n",
       "  <thead>\n",
       "    <tr style=\"text-align: right;\">\n",
       "      <th></th>\n",
       "      <th>created_at</th>\n",
       "      <th>full_text</th>\n",
       "      <th>quote_count</th>\n",
       "      <th>reply_count</th>\n",
       "      <th>retweet_count</th>\n",
       "      <th>favorite_count</th>\n",
       "      <th>username</th>\n",
       "      <th>tweet_url</th>\n",
       "      <th>Kandidat</th>\n",
       "      <th>tweets</th>\n",
       "    </tr>\n",
       "  </thead>\n",
       "  <tbody>\n",
       "    <tr>\n",
       "      <th>0</th>\n",
       "      <td>Thu Dec 14 05:15:57 +0000 2023</td>\n",
       "      <td>Jaringan Perempuan Nahdliyin untuk ANIS MUHAIM...</td>\n",
       "      <td>0.0</td>\n",
       "      <td>0</td>\n",
       "      <td>0.0</td>\n",
       "      <td>0.0</td>\n",
       "      <td>PkbPurworejo</td>\n",
       "      <td>https://twitter.com/PkbPurworejo/status/173516...</td>\n",
       "      <td>Anies-Muhaimin</td>\n",
       "      <td>Nahdliyin Women's Network for ANIS MUHAIMIN To...</td>\n",
       "    </tr>\n",
       "    <tr>\n",
       "      <th>1</th>\n",
       "      <td>Thu Dec 14 04:32:00 +0000 2023</td>\n",
       "      <td>Setelah melihat debat kemaren tanpa pikir panj...</td>\n",
       "      <td>0.0</td>\n",
       "      <td>0</td>\n",
       "      <td>0.0</td>\n",
       "      <td>0.0</td>\n",
       "      <td>BaladewaDon</td>\n",
       "      <td>https://twitter.com/BaladewaDon/status/1735155...</td>\n",
       "      <td>Anies-Muhaimin</td>\n",
       "      <td>After seeing yesterday's debate, without think...</td>\n",
       "    </tr>\n",
       "    <tr>\n",
       "      <th>2</th>\n",
       "      <td>Thu Dec 14 03:16:38 +0000 2023</td>\n",
       "      <td>Isi Komen banyak Anis Muhaimin AMIN menang</td>\n",
       "      <td>0.0</td>\n",
       "      <td>0</td>\n",
       "      <td>0.0</td>\n",
       "      <td>0.0</td>\n",
       "      <td>sahrulmartenank</td>\n",
       "      <td>https://twitter.com/sahrulmartenank/status/173...</td>\n",
       "      <td>Anies-Muhaimin</td>\n",
       "      <td>Fill in the comments many Anis Muhaimin AMIN win</td>\n",
       "    </tr>\n",
       "    <tr>\n",
       "      <th>3</th>\n",
       "      <td>Thu Dec 14 03:15:17 +0000 2023</td>\n",
       "      <td>Telak banget ya AnisMuhaimin mantap</td>\n",
       "      <td>0.0</td>\n",
       "      <td>0</td>\n",
       "      <td>0.0</td>\n",
       "      <td>0.0</td>\n",
       "      <td>AmLoebis</td>\n",
       "      <td>https://twitter.com/AmLoebis/status/1735136350...</td>\n",
       "      <td>Anies-Muhaimin</td>\n",
       "      <td>That's really great, Anis Muhaimin</td>\n",
       "    </tr>\n",
       "    <tr>\n",
       "      <th>4</th>\n",
       "      <td>Thu Dec 14 03:13:31 +0000 2023</td>\n",
       "      <td>anies Ampe julurin lidah ya kayak itu tu AnisM...</td>\n",
       "      <td>0.0</td>\n",
       "      <td>0</td>\n",
       "      <td>0.0</td>\n",
       "      <td>0.0</td>\n",
       "      <td>AmLoebis</td>\n",
       "      <td>https://twitter.com/AmLoebis/status/1735135902...</td>\n",
       "      <td>Anies-Muhaimin</td>\n",
       "      <td>Anies Ampe stick out your tongue like that, An...</td>\n",
       "    </tr>\n",
       "  </tbody>\n",
       "</table>\n",
       "</div>"
      ],
      "text/plain": [
       "                       created_at  \\\n",
       "0  Thu Dec 14 05:15:57 +0000 2023   \n",
       "1  Thu Dec 14 04:32:00 +0000 2023   \n",
       "2  Thu Dec 14 03:16:38 +0000 2023   \n",
       "3  Thu Dec 14 03:15:17 +0000 2023   \n",
       "4  Thu Dec 14 03:13:31 +0000 2023   \n",
       "\n",
       "                                           full_text  quote_count reply_count  \\\n",
       "0  Jaringan Perempuan Nahdliyin untuk ANIS MUHAIM...          0.0           0   \n",
       "1  Setelah melihat debat kemaren tanpa pikir panj...          0.0           0   \n",
       "2         Isi Komen banyak Anis Muhaimin AMIN menang          0.0           0   \n",
       "3                Telak banget ya AnisMuhaimin mantap          0.0           0   \n",
       "4  anies Ampe julurin lidah ya kayak itu tu AnisM...          0.0           0   \n",
       "\n",
       "   retweet_count  favorite_count         username  \\\n",
       "0            0.0             0.0     PkbPurworejo   \n",
       "1            0.0             0.0      BaladewaDon   \n",
       "2            0.0             0.0  sahrulmartenank   \n",
       "3            0.0             0.0         AmLoebis   \n",
       "4            0.0             0.0         AmLoebis   \n",
       "\n",
       "                                           tweet_url        Kandidat  \\\n",
       "0  https://twitter.com/PkbPurworejo/status/173516...  Anies-Muhaimin   \n",
       "1  https://twitter.com/BaladewaDon/status/1735155...  Anies-Muhaimin   \n",
       "2  https://twitter.com/sahrulmartenank/status/173...  Anies-Muhaimin   \n",
       "3  https://twitter.com/AmLoebis/status/1735136350...  Anies-Muhaimin   \n",
       "4  https://twitter.com/AmLoebis/status/1735135902...  Anies-Muhaimin   \n",
       "\n",
       "                                              tweets  \n",
       "0  Nahdliyin Women's Network for ANIS MUHAIMIN To...  \n",
       "1  After seeing yesterday's debate, without think...  \n",
       "2   Fill in the comments many Anis Muhaimin AMIN win  \n",
       "3                 That's really great, Anis Muhaimin  \n",
       "4  Anies Ampe stick out your tongue like that, An...  "
      ]
     },
     "execution_count": 28,
     "metadata": {},
     "output_type": "execute_result"
    }
   ],
   "source": [
    "df.head()"
   ]
  },
  {
   "cell_type": "code",
   "execution_count": 31,
   "id": "5763a00d-e3d6-4f9f-996f-eae7e78b2efb",
   "metadata": {
    "tags": []
   },
   "outputs": [],
   "source": [
    "delete_full_text = ['full_text']"
   ]
  },
  {
   "cell_type": "code",
   "execution_count": 32,
   "id": "86958ea8-5891-4ac1-b78a-5f9ff101d4f2",
   "metadata": {
    "tags": []
   },
   "outputs": [],
   "source": [
    "df = df.drop(columns=delete_full_text)"
   ]
  },
  {
   "cell_type": "code",
   "execution_count": 33,
   "id": "87b395af-1214-4f1a-b7d7-5adc4df65fa5",
   "metadata": {
    "tags": []
   },
   "outputs": [
    {
     "data": {
      "text/html": [
       "<div>\n",
       "<style scoped>\n",
       "    .dataframe tbody tr th:only-of-type {\n",
       "        vertical-align: middle;\n",
       "    }\n",
       "\n",
       "    .dataframe tbody tr th {\n",
       "        vertical-align: top;\n",
       "    }\n",
       "\n",
       "    .dataframe thead th {\n",
       "        text-align: right;\n",
       "    }\n",
       "</style>\n",
       "<table border=\"1\" class=\"dataframe\">\n",
       "  <thead>\n",
       "    <tr style=\"text-align: right;\">\n",
       "      <th></th>\n",
       "      <th>created_at</th>\n",
       "      <th>quote_count</th>\n",
       "      <th>reply_count</th>\n",
       "      <th>retweet_count</th>\n",
       "      <th>favorite_count</th>\n",
       "      <th>username</th>\n",
       "      <th>tweet_url</th>\n",
       "      <th>Kandidat</th>\n",
       "      <th>tweets</th>\n",
       "    </tr>\n",
       "  </thead>\n",
       "  <tbody>\n",
       "    <tr>\n",
       "      <th>0</th>\n",
       "      <td>Thu Dec 14 05:15:57 +0000 2023</td>\n",
       "      <td>0.0</td>\n",
       "      <td>0</td>\n",
       "      <td>0.0</td>\n",
       "      <td>0.0</td>\n",
       "      <td>PkbPurworejo</td>\n",
       "      <td>https://twitter.com/PkbPurworejo/status/173516...</td>\n",
       "      <td>Anies-Muhaimin</td>\n",
       "      <td>Nahdliyin Women's Network for ANIS MUHAIMIN To...</td>\n",
       "    </tr>\n",
       "    <tr>\n",
       "      <th>1</th>\n",
       "      <td>Thu Dec 14 04:32:00 +0000 2023</td>\n",
       "      <td>0.0</td>\n",
       "      <td>0</td>\n",
       "      <td>0.0</td>\n",
       "      <td>0.0</td>\n",
       "      <td>BaladewaDon</td>\n",
       "      <td>https://twitter.com/BaladewaDon/status/1735155...</td>\n",
       "      <td>Anies-Muhaimin</td>\n",
       "      <td>After seeing yesterday's debate, without think...</td>\n",
       "    </tr>\n",
       "    <tr>\n",
       "      <th>2</th>\n",
       "      <td>Thu Dec 14 03:16:38 +0000 2023</td>\n",
       "      <td>0.0</td>\n",
       "      <td>0</td>\n",
       "      <td>0.0</td>\n",
       "      <td>0.0</td>\n",
       "      <td>sahrulmartenank</td>\n",
       "      <td>https://twitter.com/sahrulmartenank/status/173...</td>\n",
       "      <td>Anies-Muhaimin</td>\n",
       "      <td>Fill in the comments many Anis Muhaimin AMIN win</td>\n",
       "    </tr>\n",
       "    <tr>\n",
       "      <th>3</th>\n",
       "      <td>Thu Dec 14 03:15:17 +0000 2023</td>\n",
       "      <td>0.0</td>\n",
       "      <td>0</td>\n",
       "      <td>0.0</td>\n",
       "      <td>0.0</td>\n",
       "      <td>AmLoebis</td>\n",
       "      <td>https://twitter.com/AmLoebis/status/1735136350...</td>\n",
       "      <td>Anies-Muhaimin</td>\n",
       "      <td>That's really great, Anis Muhaimin</td>\n",
       "    </tr>\n",
       "    <tr>\n",
       "      <th>4</th>\n",
       "      <td>Thu Dec 14 03:13:31 +0000 2023</td>\n",
       "      <td>0.0</td>\n",
       "      <td>0</td>\n",
       "      <td>0.0</td>\n",
       "      <td>0.0</td>\n",
       "      <td>AmLoebis</td>\n",
       "      <td>https://twitter.com/AmLoebis/status/1735135902...</td>\n",
       "      <td>Anies-Muhaimin</td>\n",
       "      <td>Anies Ampe stick out your tongue like that, An...</td>\n",
       "    </tr>\n",
       "  </tbody>\n",
       "</table>\n",
       "</div>"
      ],
      "text/plain": [
       "                       created_at  quote_count reply_count  retweet_count  \\\n",
       "0  Thu Dec 14 05:15:57 +0000 2023          0.0           0            0.0   \n",
       "1  Thu Dec 14 04:32:00 +0000 2023          0.0           0            0.0   \n",
       "2  Thu Dec 14 03:16:38 +0000 2023          0.0           0            0.0   \n",
       "3  Thu Dec 14 03:15:17 +0000 2023          0.0           0            0.0   \n",
       "4  Thu Dec 14 03:13:31 +0000 2023          0.0           0            0.0   \n",
       "\n",
       "   favorite_count         username  \\\n",
       "0             0.0     PkbPurworejo   \n",
       "1             0.0      BaladewaDon   \n",
       "2             0.0  sahrulmartenank   \n",
       "3             0.0         AmLoebis   \n",
       "4             0.0         AmLoebis   \n",
       "\n",
       "                                           tweet_url        Kandidat  \\\n",
       "0  https://twitter.com/PkbPurworejo/status/173516...  Anies-Muhaimin   \n",
       "1  https://twitter.com/BaladewaDon/status/1735155...  Anies-Muhaimin   \n",
       "2  https://twitter.com/sahrulmartenank/status/173...  Anies-Muhaimin   \n",
       "3  https://twitter.com/AmLoebis/status/1735136350...  Anies-Muhaimin   \n",
       "4  https://twitter.com/AmLoebis/status/1735135902...  Anies-Muhaimin   \n",
       "\n",
       "                                              tweets  \n",
       "0  Nahdliyin Women's Network for ANIS MUHAIMIN To...  \n",
       "1  After seeing yesterday's debate, without think...  \n",
       "2   Fill in the comments many Anis Muhaimin AMIN win  \n",
       "3                 That's really great, Anis Muhaimin  \n",
       "4  Anies Ampe stick out your tongue like that, An...  "
      ]
     },
     "execution_count": 33,
     "metadata": {},
     "output_type": "execute_result"
    }
   ],
   "source": [
    "df.head()"
   ]
  },
  {
   "cell_type": "code",
   "execution_count": 34,
   "id": "4eed4ecf-1403-466a-ab2c-b616dd79f455",
   "metadata": {
    "tags": []
   },
   "outputs": [],
   "source": [
    "df.to_csv('eng.csv')"
   ]
  },
  {
   "cell_type": "markdown",
   "id": "4339d88d-b266-486a-906b-aa9a69466fa4",
   "metadata": {},
   "source": [
    "- Klasifikasi menggunakan TextBlob (Menghitung Polaritas setiap twets)"
   ]
  },
  {
   "cell_type": "code",
   "execution_count": 37,
   "id": "fcabf278-5b4d-4832-b43e-425bfe55fbd9",
   "metadata": {
    "tags": []
   },
   "outputs": [
    {
     "name": "stdout",
     "output_type": "stream",
     "text": [
      "0        0.0500\n",
      "1        0.1250\n",
      "2        0.6500\n",
      "3        0.8000\n",
      "4        0.0000\n",
      "          ...  \n",
      "10534    0.0000\n",
      "10535    0.0000\n",
      "10536    0.2875\n",
      "10537    0.5000\n",
      "10538   -0.0125\n",
      "Name: sentiment_polarity, Length: 10379, dtype: float64\n"
     ]
    }
   ],
   "source": [
    "sentiments = []\n",
    "\n",
    "for text in df['tweets']:\n",
    "    analysis = TextBlob(str(text))\n",
    "    sentiments.append(analysis.sentiment.polarity)\n",
    "\n",
    "df['sentiment_polarity'] = sentiments\n",
    "print(df['sentiment_polarity'])"
   ]
  },
  {
   "cell_type": "markdown",
   "id": "5f52818a-c01e-4b17-be25-3132de39db88",
   "metadata": {},
   "source": [
    "- Nilai Polariti > 0.0 adalah sentiment Positif\n",
    "- Nilai Polariti = 0.0 adalah sentiment Netral\n",
    "- Nilai Polariti < 0.0 adalah sentiment Negatif"
   ]
  },
  {
   "cell_type": "code",
   "execution_count": 38,
   "id": "70628000-18bf-4cb3-9125-4e7c383ba631",
   "metadata": {
    "tags": []
   },
   "outputs": [
    {
     "data": {
      "text/html": [
       "<div>\n",
       "<style scoped>\n",
       "    .dataframe tbody tr th:only-of-type {\n",
       "        vertical-align: middle;\n",
       "    }\n",
       "\n",
       "    .dataframe tbody tr th {\n",
       "        vertical-align: top;\n",
       "    }\n",
       "\n",
       "    .dataframe thead th {\n",
       "        text-align: right;\n",
       "    }\n",
       "</style>\n",
       "<table border=\"1\" class=\"dataframe\">\n",
       "  <thead>\n",
       "    <tr style=\"text-align: right;\">\n",
       "      <th></th>\n",
       "      <th>created_at</th>\n",
       "      <th>quote_count</th>\n",
       "      <th>reply_count</th>\n",
       "      <th>retweet_count</th>\n",
       "      <th>favorite_count</th>\n",
       "      <th>username</th>\n",
       "      <th>tweet_url</th>\n",
       "      <th>Kandidat</th>\n",
       "      <th>tweets</th>\n",
       "      <th>sentiment_polarity</th>\n",
       "    </tr>\n",
       "  </thead>\n",
       "  <tbody>\n",
       "    <tr>\n",
       "      <th>0</th>\n",
       "      <td>Thu Dec 14 05:15:57 +0000 2023</td>\n",
       "      <td>0.0</td>\n",
       "      <td>0</td>\n",
       "      <td>0.0</td>\n",
       "      <td>0.0</td>\n",
       "      <td>PkbPurworejo</td>\n",
       "      <td>https://twitter.com/PkbPurworejo/status/173516...</td>\n",
       "      <td>Anies-Muhaimin</td>\n",
       "      <td>Nahdliyin Women's Network for ANIS MUHAIMIN To...</td>\n",
       "      <td>0.050</td>\n",
       "    </tr>\n",
       "    <tr>\n",
       "      <th>1</th>\n",
       "      <td>Thu Dec 14 04:32:00 +0000 2023</td>\n",
       "      <td>0.0</td>\n",
       "      <td>0</td>\n",
       "      <td>0.0</td>\n",
       "      <td>0.0</td>\n",
       "      <td>BaladewaDon</td>\n",
       "      <td>https://twitter.com/BaladewaDon/status/1735155...</td>\n",
       "      <td>Anies-Muhaimin</td>\n",
       "      <td>After seeing yesterday's debate, without think...</td>\n",
       "      <td>0.125</td>\n",
       "    </tr>\n",
       "    <tr>\n",
       "      <th>2</th>\n",
       "      <td>Thu Dec 14 03:16:38 +0000 2023</td>\n",
       "      <td>0.0</td>\n",
       "      <td>0</td>\n",
       "      <td>0.0</td>\n",
       "      <td>0.0</td>\n",
       "      <td>sahrulmartenank</td>\n",
       "      <td>https://twitter.com/sahrulmartenank/status/173...</td>\n",
       "      <td>Anies-Muhaimin</td>\n",
       "      <td>Fill in the comments many Anis Muhaimin AMIN win</td>\n",
       "      <td>0.650</td>\n",
       "    </tr>\n",
       "    <tr>\n",
       "      <th>3</th>\n",
       "      <td>Thu Dec 14 03:15:17 +0000 2023</td>\n",
       "      <td>0.0</td>\n",
       "      <td>0</td>\n",
       "      <td>0.0</td>\n",
       "      <td>0.0</td>\n",
       "      <td>AmLoebis</td>\n",
       "      <td>https://twitter.com/AmLoebis/status/1735136350...</td>\n",
       "      <td>Anies-Muhaimin</td>\n",
       "      <td>That's really great, Anis Muhaimin</td>\n",
       "      <td>0.800</td>\n",
       "    </tr>\n",
       "    <tr>\n",
       "      <th>4</th>\n",
       "      <td>Thu Dec 14 03:13:31 +0000 2023</td>\n",
       "      <td>0.0</td>\n",
       "      <td>0</td>\n",
       "      <td>0.0</td>\n",
       "      <td>0.0</td>\n",
       "      <td>AmLoebis</td>\n",
       "      <td>https://twitter.com/AmLoebis/status/1735135902...</td>\n",
       "      <td>Anies-Muhaimin</td>\n",
       "      <td>Anies Ampe stick out your tongue like that, An...</td>\n",
       "      <td>0.000</td>\n",
       "    </tr>\n",
       "  </tbody>\n",
       "</table>\n",
       "</div>"
      ],
      "text/plain": [
       "                       created_at  quote_count reply_count  retweet_count  \\\n",
       "0  Thu Dec 14 05:15:57 +0000 2023          0.0           0            0.0   \n",
       "1  Thu Dec 14 04:32:00 +0000 2023          0.0           0            0.0   \n",
       "2  Thu Dec 14 03:16:38 +0000 2023          0.0           0            0.0   \n",
       "3  Thu Dec 14 03:15:17 +0000 2023          0.0           0            0.0   \n",
       "4  Thu Dec 14 03:13:31 +0000 2023          0.0           0            0.0   \n",
       "\n",
       "   favorite_count         username  \\\n",
       "0             0.0     PkbPurworejo   \n",
       "1             0.0      BaladewaDon   \n",
       "2             0.0  sahrulmartenank   \n",
       "3             0.0         AmLoebis   \n",
       "4             0.0         AmLoebis   \n",
       "\n",
       "                                           tweet_url        Kandidat  \\\n",
       "0  https://twitter.com/PkbPurworejo/status/173516...  Anies-Muhaimin   \n",
       "1  https://twitter.com/BaladewaDon/status/1735155...  Anies-Muhaimin   \n",
       "2  https://twitter.com/sahrulmartenank/status/173...  Anies-Muhaimin   \n",
       "3  https://twitter.com/AmLoebis/status/1735136350...  Anies-Muhaimin   \n",
       "4  https://twitter.com/AmLoebis/status/1735135902...  Anies-Muhaimin   \n",
       "\n",
       "                                              tweets  sentiment_polarity  \n",
       "0  Nahdliyin Women's Network for ANIS MUHAIMIN To...               0.050  \n",
       "1  After seeing yesterday's debate, without think...               0.125  \n",
       "2   Fill in the comments many Anis Muhaimin AMIN win               0.650  \n",
       "3                 That's really great, Anis Muhaimin               0.800  \n",
       "4  Anies Ampe stick out your tongue like that, An...               0.000  "
      ]
     },
     "execution_count": 38,
     "metadata": {},
     "output_type": "execute_result"
    }
   ],
   "source": [
    "df.head()"
   ]
  },
  {
   "cell_type": "code",
   "execution_count": 68,
   "id": "b8e5742b-9c5c-4628-af29-faf36b2f5b1a",
   "metadata": {
    "tags": []
   },
   "outputs": [],
   "source": [
    "def label_sentiment(polarity):\n",
    "    if polarity > 0:\n",
    "        return 'Positif'\n",
    "    elif polarity == 0:\n",
    "        return 'Netral'\n",
    "    else:\n",
    "        return 'Negatif'\n",
    "\n",
    "df['sentiment'] = df['sentiment_polarity'].apply(label_sentiment)"
   ]
  },
  {
   "cell_type": "code",
   "execution_count": 69,
   "id": "844cfc51-0639-40be-9362-0fe60f2d6fcf",
   "metadata": {
    "tags": []
   },
   "outputs": [
    {
     "data": {
      "text/html": [
       "<div>\n",
       "<style scoped>\n",
       "    .dataframe tbody tr th:only-of-type {\n",
       "        vertical-align: middle;\n",
       "    }\n",
       "\n",
       "    .dataframe tbody tr th {\n",
       "        vertical-align: top;\n",
       "    }\n",
       "\n",
       "    .dataframe thead th {\n",
       "        text-align: right;\n",
       "    }\n",
       "</style>\n",
       "<table border=\"1\" class=\"dataframe\">\n",
       "  <thead>\n",
       "    <tr style=\"text-align: right;\">\n",
       "      <th></th>\n",
       "      <th>created_at</th>\n",
       "      <th>quote_count</th>\n",
       "      <th>reply_count</th>\n",
       "      <th>retweet_count</th>\n",
       "      <th>favorite_count</th>\n",
       "      <th>username</th>\n",
       "      <th>tweet_url</th>\n",
       "      <th>Kandidat</th>\n",
       "      <th>tweets</th>\n",
       "      <th>sentiment_polarity</th>\n",
       "      <th>sentiment</th>\n",
       "    </tr>\n",
       "  </thead>\n",
       "  <tbody>\n",
       "    <tr>\n",
       "      <th>0</th>\n",
       "      <td>Thu Dec 14 05:15:57 +0000 2023</td>\n",
       "      <td>0.0</td>\n",
       "      <td>0</td>\n",
       "      <td>0.0</td>\n",
       "      <td>0.0</td>\n",
       "      <td>PkbPurworejo</td>\n",
       "      <td>https://twitter.com/PkbPurworejo/status/173516...</td>\n",
       "      <td>Anies-Muhaimin</td>\n",
       "      <td>Nahdliyin Women's Network for ANIS MUHAIMIN To...</td>\n",
       "      <td>0.050</td>\n",
       "      <td>Positif</td>\n",
       "    </tr>\n",
       "    <tr>\n",
       "      <th>1</th>\n",
       "      <td>Thu Dec 14 04:32:00 +0000 2023</td>\n",
       "      <td>0.0</td>\n",
       "      <td>0</td>\n",
       "      <td>0.0</td>\n",
       "      <td>0.0</td>\n",
       "      <td>BaladewaDon</td>\n",
       "      <td>https://twitter.com/BaladewaDon/status/1735155...</td>\n",
       "      <td>Anies-Muhaimin</td>\n",
       "      <td>After seeing yesterday's debate, without think...</td>\n",
       "      <td>0.125</td>\n",
       "      <td>Positif</td>\n",
       "    </tr>\n",
       "    <tr>\n",
       "      <th>2</th>\n",
       "      <td>Thu Dec 14 03:16:38 +0000 2023</td>\n",
       "      <td>0.0</td>\n",
       "      <td>0</td>\n",
       "      <td>0.0</td>\n",
       "      <td>0.0</td>\n",
       "      <td>sahrulmartenank</td>\n",
       "      <td>https://twitter.com/sahrulmartenank/status/173...</td>\n",
       "      <td>Anies-Muhaimin</td>\n",
       "      <td>Fill in the comments many Anis Muhaimin AMIN win</td>\n",
       "      <td>0.650</td>\n",
       "      <td>Positif</td>\n",
       "    </tr>\n",
       "    <tr>\n",
       "      <th>3</th>\n",
       "      <td>Thu Dec 14 03:15:17 +0000 2023</td>\n",
       "      <td>0.0</td>\n",
       "      <td>0</td>\n",
       "      <td>0.0</td>\n",
       "      <td>0.0</td>\n",
       "      <td>AmLoebis</td>\n",
       "      <td>https://twitter.com/AmLoebis/status/1735136350...</td>\n",
       "      <td>Anies-Muhaimin</td>\n",
       "      <td>That's really great, Anis Muhaimin</td>\n",
       "      <td>0.800</td>\n",
       "      <td>Positif</td>\n",
       "    </tr>\n",
       "    <tr>\n",
       "      <th>4</th>\n",
       "      <td>Thu Dec 14 03:13:31 +0000 2023</td>\n",
       "      <td>0.0</td>\n",
       "      <td>0</td>\n",
       "      <td>0.0</td>\n",
       "      <td>0.0</td>\n",
       "      <td>AmLoebis</td>\n",
       "      <td>https://twitter.com/AmLoebis/status/1735135902...</td>\n",
       "      <td>Anies-Muhaimin</td>\n",
       "      <td>Anies Ampe stick out your tongue like that, An...</td>\n",
       "      <td>0.000</td>\n",
       "      <td>Netral</td>\n",
       "    </tr>\n",
       "  </tbody>\n",
       "</table>\n",
       "</div>"
      ],
      "text/plain": [
       "                       created_at  quote_count reply_count  retweet_count  \\\n",
       "0  Thu Dec 14 05:15:57 +0000 2023          0.0           0            0.0   \n",
       "1  Thu Dec 14 04:32:00 +0000 2023          0.0           0            0.0   \n",
       "2  Thu Dec 14 03:16:38 +0000 2023          0.0           0            0.0   \n",
       "3  Thu Dec 14 03:15:17 +0000 2023          0.0           0            0.0   \n",
       "4  Thu Dec 14 03:13:31 +0000 2023          0.0           0            0.0   \n",
       "\n",
       "   favorite_count         username  \\\n",
       "0             0.0     PkbPurworejo   \n",
       "1             0.0      BaladewaDon   \n",
       "2             0.0  sahrulmartenank   \n",
       "3             0.0         AmLoebis   \n",
       "4             0.0         AmLoebis   \n",
       "\n",
       "                                           tweet_url        Kandidat  \\\n",
       "0  https://twitter.com/PkbPurworejo/status/173516...  Anies-Muhaimin   \n",
       "1  https://twitter.com/BaladewaDon/status/1735155...  Anies-Muhaimin   \n",
       "2  https://twitter.com/sahrulmartenank/status/173...  Anies-Muhaimin   \n",
       "3  https://twitter.com/AmLoebis/status/1735136350...  Anies-Muhaimin   \n",
       "4  https://twitter.com/AmLoebis/status/1735135902...  Anies-Muhaimin   \n",
       "\n",
       "                                              tweets  sentiment_polarity  \\\n",
       "0  Nahdliyin Women's Network for ANIS MUHAIMIN To...               0.050   \n",
       "1  After seeing yesterday's debate, without think...               0.125   \n",
       "2   Fill in the comments many Anis Muhaimin AMIN win               0.650   \n",
       "3                 That's really great, Anis Muhaimin               0.800   \n",
       "4  Anies Ampe stick out your tongue like that, An...               0.000   \n",
       "\n",
       "  sentiment  \n",
       "0   Positif  \n",
       "1   Positif  \n",
       "2   Positif  \n",
       "3   Positif  \n",
       "4    Netral  "
      ]
     },
     "execution_count": 69,
     "metadata": {},
     "output_type": "execute_result"
    }
   ],
   "source": [
    "df.head()"
   ]
  },
  {
   "cell_type": "code",
   "execution_count": 71,
   "id": "9f2c746a-a49f-4e41-9bc4-51803b954220",
   "metadata": {
    "tags": []
   },
   "outputs": [],
   "source": [
    "sentiment_counts = df['sentiment'].value_counts()"
   ]
  },
  {
   "cell_type": "code",
   "execution_count": 72,
   "id": "10de6c7a-ec0c-46fe-97de-8e1335b45dac",
   "metadata": {
    "tags": []
   },
   "outputs": [
    {
     "name": "stdout",
     "output_type": "stream",
     "text": [
      "Positif    5503\n",
      "Netral     3236\n",
      "Negatif    1640\n",
      "Name: sentiment, dtype: int64\n"
     ]
    }
   ],
   "source": [
    "print(sentiment_counts)"
   ]
  },
  {
   "cell_type": "code",
   "execution_count": 73,
   "id": "5c8c0235-716d-495b-9b90-ea3c20871431",
   "metadata": {
    "tags": []
   },
   "outputs": [],
   "source": [
    "delete = ['quote_count']\n",
    "df = df.drop(columns=delete)"
   ]
  },
  {
   "cell_type": "code",
   "execution_count": 74,
   "id": "72b7b656-0b21-497a-877a-cc2869534822",
   "metadata": {
    "tags": []
   },
   "outputs": [
    {
     "data": {
      "text/html": [
       "<div>\n",
       "<style scoped>\n",
       "    .dataframe tbody tr th:only-of-type {\n",
       "        vertical-align: middle;\n",
       "    }\n",
       "\n",
       "    .dataframe tbody tr th {\n",
       "        vertical-align: top;\n",
       "    }\n",
       "\n",
       "    .dataframe thead th {\n",
       "        text-align: right;\n",
       "    }\n",
       "</style>\n",
       "<table border=\"1\" class=\"dataframe\">\n",
       "  <thead>\n",
       "    <tr style=\"text-align: right;\">\n",
       "      <th></th>\n",
       "      <th>created_at</th>\n",
       "      <th>reply_count</th>\n",
       "      <th>retweet_count</th>\n",
       "      <th>favorite_count</th>\n",
       "      <th>username</th>\n",
       "      <th>tweet_url</th>\n",
       "      <th>Kandidat</th>\n",
       "      <th>tweets</th>\n",
       "      <th>sentiment_polarity</th>\n",
       "      <th>sentiment</th>\n",
       "    </tr>\n",
       "  </thead>\n",
       "  <tbody>\n",
       "    <tr>\n",
       "      <th>0</th>\n",
       "      <td>Thu Dec 14 05:15:57 +0000 2023</td>\n",
       "      <td>0</td>\n",
       "      <td>0.0</td>\n",
       "      <td>0.0</td>\n",
       "      <td>PkbPurworejo</td>\n",
       "      <td>https://twitter.com/PkbPurworejo/status/173516...</td>\n",
       "      <td>Anies-Muhaimin</td>\n",
       "      <td>Nahdliyin Women's Network for ANIS MUHAIMIN To...</td>\n",
       "      <td>0.050</td>\n",
       "      <td>Positif</td>\n",
       "    </tr>\n",
       "    <tr>\n",
       "      <th>1</th>\n",
       "      <td>Thu Dec 14 04:32:00 +0000 2023</td>\n",
       "      <td>0</td>\n",
       "      <td>0.0</td>\n",
       "      <td>0.0</td>\n",
       "      <td>BaladewaDon</td>\n",
       "      <td>https://twitter.com/BaladewaDon/status/1735155...</td>\n",
       "      <td>Anies-Muhaimin</td>\n",
       "      <td>After seeing yesterday's debate, without think...</td>\n",
       "      <td>0.125</td>\n",
       "      <td>Positif</td>\n",
       "    </tr>\n",
       "    <tr>\n",
       "      <th>2</th>\n",
       "      <td>Thu Dec 14 03:16:38 +0000 2023</td>\n",
       "      <td>0</td>\n",
       "      <td>0.0</td>\n",
       "      <td>0.0</td>\n",
       "      <td>sahrulmartenank</td>\n",
       "      <td>https://twitter.com/sahrulmartenank/status/173...</td>\n",
       "      <td>Anies-Muhaimin</td>\n",
       "      <td>Fill in the comments many Anis Muhaimin AMIN win</td>\n",
       "      <td>0.650</td>\n",
       "      <td>Positif</td>\n",
       "    </tr>\n",
       "    <tr>\n",
       "      <th>3</th>\n",
       "      <td>Thu Dec 14 03:15:17 +0000 2023</td>\n",
       "      <td>0</td>\n",
       "      <td>0.0</td>\n",
       "      <td>0.0</td>\n",
       "      <td>AmLoebis</td>\n",
       "      <td>https://twitter.com/AmLoebis/status/1735136350...</td>\n",
       "      <td>Anies-Muhaimin</td>\n",
       "      <td>That's really great, Anis Muhaimin</td>\n",
       "      <td>0.800</td>\n",
       "      <td>Positif</td>\n",
       "    </tr>\n",
       "    <tr>\n",
       "      <th>4</th>\n",
       "      <td>Thu Dec 14 03:13:31 +0000 2023</td>\n",
       "      <td>0</td>\n",
       "      <td>0.0</td>\n",
       "      <td>0.0</td>\n",
       "      <td>AmLoebis</td>\n",
       "      <td>https://twitter.com/AmLoebis/status/1735135902...</td>\n",
       "      <td>Anies-Muhaimin</td>\n",
       "      <td>Anies Ampe stick out your tongue like that, An...</td>\n",
       "      <td>0.000</td>\n",
       "      <td>Netral</td>\n",
       "    </tr>\n",
       "  </tbody>\n",
       "</table>\n",
       "</div>"
      ],
      "text/plain": [
       "                       created_at reply_count  retweet_count  favorite_count  \\\n",
       "0  Thu Dec 14 05:15:57 +0000 2023           0            0.0             0.0   \n",
       "1  Thu Dec 14 04:32:00 +0000 2023           0            0.0             0.0   \n",
       "2  Thu Dec 14 03:16:38 +0000 2023           0            0.0             0.0   \n",
       "3  Thu Dec 14 03:15:17 +0000 2023           0            0.0             0.0   \n",
       "4  Thu Dec 14 03:13:31 +0000 2023           0            0.0             0.0   \n",
       "\n",
       "          username                                          tweet_url  \\\n",
       "0     PkbPurworejo  https://twitter.com/PkbPurworejo/status/173516...   \n",
       "1      BaladewaDon  https://twitter.com/BaladewaDon/status/1735155...   \n",
       "2  sahrulmartenank  https://twitter.com/sahrulmartenank/status/173...   \n",
       "3         AmLoebis  https://twitter.com/AmLoebis/status/1735136350...   \n",
       "4         AmLoebis  https://twitter.com/AmLoebis/status/1735135902...   \n",
       "\n",
       "         Kandidat                                             tweets  \\\n",
       "0  Anies-Muhaimin  Nahdliyin Women's Network for ANIS MUHAIMIN To...   \n",
       "1  Anies-Muhaimin  After seeing yesterday's debate, without think...   \n",
       "2  Anies-Muhaimin   Fill in the comments many Anis Muhaimin AMIN win   \n",
       "3  Anies-Muhaimin                 That's really great, Anis Muhaimin   \n",
       "4  Anies-Muhaimin  Anies Ampe stick out your tongue like that, An...   \n",
       "\n",
       "   sentiment_polarity sentiment  \n",
       "0               0.050   Positif  \n",
       "1               0.125   Positif  \n",
       "2               0.650   Positif  \n",
       "3               0.800   Positif  \n",
       "4               0.000    Netral  "
      ]
     },
     "execution_count": 74,
     "metadata": {},
     "output_type": "execute_result"
    }
   ],
   "source": [
    "df.head()"
   ]
  },
  {
   "cell_type": "code",
   "execution_count": 75,
   "id": "0f4a04c8-65f0-4aff-ab1d-38909ebbc533",
   "metadata": {
    "tags": []
   },
   "outputs": [
    {
     "name": "stdout",
     "output_type": "stream",
     "text": [
      "<class 'pandas.core.frame.DataFrame'>\n",
      "Int64Index: 10379 entries, 0 to 10538\n",
      "Data columns (total 10 columns):\n",
      " #   Column              Non-Null Count  Dtype  \n",
      "---  ------              --------------  -----  \n",
      " 0   created_at          10379 non-null  object \n",
      " 1   reply_count         10379 non-null  object \n",
      " 2   retweet_count       10379 non-null  float64\n",
      " 3   favorite_count      10379 non-null  float64\n",
      " 4   username            10379 non-null  object \n",
      " 5   tweet_url           10379 non-null  object \n",
      " 6   Kandidat            10379 non-null  object \n",
      " 7   tweets              10379 non-null  object \n",
      " 8   sentiment_polarity  10379 non-null  float64\n",
      " 9   sentiment           10379 non-null  object \n",
      "dtypes: float64(3), object(7)\n",
      "memory usage: 891.9+ KB\n"
     ]
    }
   ],
   "source": [
    "df.info()"
   ]
  },
  {
   "cell_type": "code",
   "execution_count": 76,
   "id": "0915f573-e863-415a-8206-5990d0584b50",
   "metadata": {
    "tags": []
   },
   "outputs": [],
   "source": [
    "df.to_csv('hasil_polaritas.csv')"
   ]
  },
  {
   "cell_type": "code",
   "execution_count": 1,
   "id": "5e581983-3f8f-4b5f-89ea-835605c2580f",
   "metadata": {
    "tags": []
   },
   "outputs": [
    {
     "ename": "NameError",
     "evalue": "name 'df' is not defined",
     "output_type": "error",
     "traceback": [
      "\u001b[0;31m---------------------------------------------------------------------------\u001b[0m",
      "\u001b[0;31mNameError\u001b[0m                                 Traceback (most recent call last)",
      "Cell \u001b[0;32mIn[1], line 7\u001b[0m\n\u001b[1;32m      4\u001b[0m     \u001b[38;5;28;01mreturn\u001b[39;00m translation\n\u001b[1;32m      6\u001b[0m \u001b[38;5;66;03m# Menerapkan fungsi translate_to_indonesian langsung ke kolom 'tweets'\u001b[39;00m\n\u001b[0;32m----> 7\u001b[0m df[\u001b[38;5;124m'\u001b[39m\u001b[38;5;124mtweets\u001b[39m\u001b[38;5;124m'\u001b[39m] \u001b[38;5;241m=\u001b[39m df[\u001b[38;5;124m'\u001b[39m\u001b[38;5;124mtweets\u001b[39m\u001b[38;5;124m'\u001b[39m]\u001b[38;5;241m.\u001b[39mapply(translate_to_indonesian)\n",
      "\u001b[0;31mNameError\u001b[0m: name 'df' is not defined"
     ]
    }
   ],
   "source": [
    "def translate_to_indonesian(text):\n",
    "    translator = Translator()\n",
    "    translation = translator.translate(text, dest='id').text\n",
    "    return translation\n",
    "\n",
    "# Menerapkan fungsi translate_to_indonesian langsung ke kolom 'tweets'\n",
    "df['tweets'] = df['tweets'].apply(translate_to_indonesian)"
   ]
  },
  {
   "cell_type": "code",
   "execution_count": null,
   "id": "f41efbfd-a55a-4794-ae5b-397ef5646918",
   "metadata": {},
   "outputs": [],
   "source": []
  },
  {
   "cell_type": "code",
   "execution_count": null,
   "id": "4ab031b7-620d-4a37-9cc8-993bc795b780",
   "metadata": {},
   "outputs": [],
   "source": []
  }
 ],
 "metadata": {
  "kernelspec": {
   "display_name": "Python 3 (ipykernel)",
   "language": "python",
   "name": "python3"
  },
  "language_info": {
   "codemirror_mode": {
    "name": "ipython",
    "version": 3
   },
   "file_extension": ".py",
   "mimetype": "text/x-python",
   "name": "python",
   "nbconvert_exporter": "python",
   "pygments_lexer": "ipython3",
   "version": "3.11.4"
  }
 },
 "nbformat": 4,
 "nbformat_minor": 5
}
